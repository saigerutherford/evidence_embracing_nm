{
 "cells": [
  {
   "cell_type": "code",
   "execution_count": 1,
   "id": "c9f4d4d3-038c-4a3c-844c-f2d2324e888f",
   "metadata": {},
   "outputs": [],
   "source": [
    "import pandas as pd\n",
    "import numpy as np\n",
    "from matplotlib import pyplot as plt\n",
    "import operator"
   ]
  },
  {
   "cell_type": "markdown",
   "id": "c2920519-d068-4499-b677-3027b76d2192",
   "metadata": {},
   "source": [
    "## ABCD"
   ]
  },
  {
   "cell_type": "code",
   "execution_count": 2,
   "id": "5fa17bab-a0b8-49ca-80dc-3415a33329e0",
   "metadata": {},
   "outputs": [],
   "source": [
    "n_permutations = 10000"
   ]
  },
  {
   "cell_type": "markdown",
   "id": "e9240f85-cb01-4c14-882c-eeff83b95e4c",
   "metadata": {},
   "source": [
    "### BBS"
   ]
  },
  {
   "cell_type": "code",
   "execution_count": 3,
   "id": "e050dc21-2ea8-420c-bc10-7d8b779b715c",
   "metadata": {},
   "outputs": [],
   "source": [
    "# Test set Z-score shuffled model MSE\n",
    "bbs_z_mse_shuff = np.load('abcd_bbs_test_mse_z_shuff_arr.npy')\n",
    "\n",
    "# Test set Cortical Thickness shuffled model MSE\n",
    "bbs_ct_mse_shuff = np.load('abcd_bbs_test_mse_ct_shuff_arr.npy')"
   ]
  },
  {
   "cell_type": "code",
   "execution_count": 4,
   "id": "b1943318-bda4-419c-965b-ff692d40ee58",
   "metadata": {},
   "outputs": [],
   "source": [
    "# Test set difference (Z - CT) shuffled MSE\n",
    "bbs_diff_shuff = list(map(operator.sub, bbs_ct_mse_shuff, bbs_z_mse_shuff))"
   ]
  },
  {
   "cell_type": "code",
   "execution_count": 50,
   "id": "c4b1b5fb-58d0-4cbd-9f79-e5da3fbea10f",
   "metadata": {},
   "outputs": [],
   "source": [
    "bbs_ct_mse = 0.797\n",
    "bbs_z_mse = 0.784\n",
    "\n",
    "# Test set difference (Z - CT) MSE\n",
    "bbs_diff = np.array(0.013)"
   ]
  },
  {
   "cell_type": "code",
   "execution_count": 51,
   "id": "e09c4a74-fbbe-4c92-93dd-caa705ad7f08",
   "metadata": {},
   "outputs": [],
   "source": [
    "bbs_z_mse_avg_shuff = np.mean(bbs_z_mse_shuff)\n",
    "bbs_ct_mse_avg_shuff = np.mean(bbs_ct_mse_shuff)"
   ]
  },
  {
   "cell_type": "code",
   "execution_count": 53,
   "id": "42e258e8-ea5b-4e61-8f22-ff12befeaa4e",
   "metadata": {},
   "outputs": [
    {
     "name": "stdout",
     "output_type": "stream",
     "text": [
      "Permutation p-value is:  0.0374962503749625\n"
     ]
    }
   ],
   "source": [
    "pval_bbs = (np.sum(bbs_diff_shuff >= bbs_diff) + 1.0) / (n_permutations + 1)\n",
    "print(\"Permutation p-value is: \", pval_bbs)"
   ]
  },
  {
   "cell_type": "code",
   "execution_count": 13,
   "id": "03d8c7cf-c354-4898-985b-6e329629b3a0",
   "metadata": {},
   "outputs": [
    {
     "data": {
      "text/plain": [
       "Text(0.5, 1.0, 'Principal Component Regression')"
      ]
     },
     "execution_count": 13,
     "metadata": {},
     "output_type": "execute_result"
    },
    {
     "data": {
      "image/png": "[encoded data removed]",
      "text/plain": [
       "<Figure size 432x288 with 1 Axes>"
      ]
     },
     "metadata": {
      "needs_background": "light"
     },
     "output_type": "display_data"
    }
   ],
   "source": [
    "result = plt.hist(bbs_z_mse_shuff, bins=20, color='b', edgecolor='k', alpha=0.65)\n",
    "result2 = plt.hist(bbs_ct_mse_shuff, bins=20, color='r', edgecolor='k', alpha=0.65)\n",
    "\n",
    "plt.axvline(bbs_z_mse, color='b', linestyle='dashed', linewidth=2)\n",
    "plt.axvline(bbs_ct_mse, color='r', linestyle='dashed', linewidth=2)\n",
    "\n",
    "labels= [\"True Z\", \"True Raw\", \"Shuffled Z\",\"Shuffled Raw\"]\n",
    "plt.legend(labels)\n",
    "\n",
    "plt.axvline(bbs_z_mse_avg_shuff, color='b', linestyle='dashed', linewidth=0.8)\n",
    "plt.axvline(bbs_ct_mse_avg_shuff, color='r', linestyle='dashed', linewidth=0.8)\n",
    "\n",
    "plt.xlabel(\"Mean Squared Error\", fontsize=16)  \n",
    "plt.ylabel(\" \", fontsize=16)\n",
    "plt.xticks(fontsize=14)  \n",
    "plt.yticks(fontsize=14)\n",
    "plt.title('Principal Component Regression', fontsize=18)"
   ]
  },
  {
   "cell_type": "markdown",
   "id": "7f2fab29-04db-4749-90a1-c794ef8358ed",
   "metadata": {},
   "source": [
    "### CPM"
   ]
  },
  {
   "cell_type": "code",
   "execution_count": 14,
   "id": "2c019436-9a5c-423d-95c5-69a4afaaaf4d",
   "metadata": {},
   "outputs": [],
   "source": [
    "# Test set Z-score shuffled model MSE\n",
    "cpm_z_mse_shuff = np.load('abcd_cpm_test_mse_z_shuff_arr.npy')\n",
    "\n",
    "# Test set Cortical Thickness shuffled model MSE\n",
    "cpm_ct_mse_shuff = np.load('abcd_cpm_test_mse_ct_shuff_arr.npy')"
   ]
  },
  {
   "cell_type": "code",
   "execution_count": 15,
   "id": "feb83fbd-e50f-4b93-a20a-d76b6fad6f85",
   "metadata": {},
   "outputs": [],
   "source": [
    "# Test set difference (Z - CT) shuffled MSE\n",
    "cpm_diff_shuff = list(map(operator.sub, cpm_ct_mse_shuff, cpm_z_mse_shuff))"
   ]
  },
  {
   "cell_type": "code",
   "execution_count": 16,
   "id": "7c8a703b-84f2-435a-978b-e2da0235c771",
   "metadata": {},
   "outputs": [],
   "source": [
    "# Test set Z-score model MSE\n",
    "cpm_z_mse = 0.797\n",
    "\n",
    "# Test set Cortical Thickness model MSE\n",
    "cpm_ct_mse = 0.806"
   ]
  },
  {
   "cell_type": "code",
   "execution_count": 17,
   "id": "860e3b62-009d-4b73-af38-8b6285dc363a",
   "metadata": {},
   "outputs": [],
   "source": [
    "cpm_z_mse_avg_shuff = np.mean(cpm_z_mse_shuff)"
   ]
  },
  {
   "cell_type": "code",
   "execution_count": 18,
   "id": "41d4beac-272c-4478-a6ed-7666a26bdd5b",
   "metadata": {},
   "outputs": [],
   "source": [
    "cpm_ct_mse_avg_shuff = np.mean(cpm_ct_mse_shuff)"
   ]
  },
  {
   "cell_type": "code",
   "execution_count": 54,
   "id": "68f2c782-ddfc-4e7c-b5f9-922cc27d8a7b",
   "metadata": {},
   "outputs": [],
   "source": [
    "# Test set difference (Z - CT) MSE\n",
    "cpm_diff = np.array(0.009)"
   ]
  },
  {
   "cell_type": "code",
   "execution_count": 55,
   "id": "9152784e-a69d-4b3a-ba2b-78ab10775458",
   "metadata": {},
   "outputs": [
    {
     "name": "stdout",
     "output_type": "stream",
     "text": [
      "Permutation p-value is:  0.0021997800219978004\n"
     ]
    }
   ],
   "source": [
    "pval_cpm = (np.sum(cpm_diff_shuff >= cpm_diff) + 1.0) / (n_permutations + 1)\n",
    "print(\"Permutation p-value is: \", pval_cpm)"
   ]
  },
  {
   "cell_type": "code",
   "execution_count": 20,
   "id": "728dfb3d-24c9-48f8-af76-8eae65dc27da",
   "metadata": {},
   "outputs": [
    {
     "data": {
      "text/plain": [
       "Text(0.5, 1.0, 'Connectome Predictive Modeling')"
      ]
     },
     "execution_count": 20,
     "metadata": {},
     "output_type": "execute_result"
    },
    {
     "data": {
      "image/png": "[encoded data removed]",
      "text/plain": [
       "<Figure size 432x288 with 1 Axes>"
      ]
     },
     "metadata": {
      "needs_background": "light"
     },
     "output_type": "display_data"
    }
   ],
   "source": [
    "result = plt.hist(cpm_z_mse_shuff, bins=20, color='b', edgecolor='k', alpha=0.65)\n",
    "result2 = plt.hist(cpm_ct_mse_shuff, bins=20, color='r', edgecolor='k', alpha=0.65)\n",
    "\n",
    "\n",
    "plt.axvline(cpm_z_mse, color='b', linestyle='dashed', linewidth=2)\n",
    "plt.axvline(cpm_ct_mse, color='r', linestyle='dashed', linewidth=2)\n",
    "\n",
    "labels= [\"True Z\", \"True Raw\", \"Shuffled Z\",\"Shuffled Raw\"]\n",
    "plt.legend(labels)\n",
    "\n",
    "plt.axvline(cpm_z_mse_avg_shuff, color='b', linestyle='dashed', linewidth=0.8)\n",
    "plt.axvline(cpm_ct_mse_avg_shuff, color='r', linestyle='dashed', linewidth=0.8)\n",
    "\n",
    "plt.xlabel(\"Mean Squared Error\", fontsize=16)  \n",
    "plt.ylabel(\" \", fontsize=16)\n",
    "plt.xticks(fontsize=14)  \n",
    "plt.yticks(fontsize=14)\n",
    "plt.title('Connectome Predictive Modeling', fontsize=18)"
   ]
  },
  {
   "cell_type": "markdown",
   "id": "a429a8af-f3f3-4132-b0c9-c0b878d71b8f",
   "metadata": {},
   "source": [
    "### Lasso"
   ]
  },
  {
   "cell_type": "code",
   "execution_count": 21,
   "id": "a11622ee-95c1-46fb-9950-d007de397cad",
   "metadata": {},
   "outputs": [],
   "source": [
    "# Test set Z-score shuffled model MSE\n",
    "lasso_z_mse_shuff = np.load('abcd_lasso_test_mse_z_shuff_arr.npy')\n",
    "\n",
    "# Test set Cortical Thickness shuffled model MSE\n",
    "lasso_ct_mse_shuff = np.load('abcd_lasso_test_mse_ct_shuff_arr.npy')"
   ]
  },
  {
   "cell_type": "code",
   "execution_count": 22,
   "id": "64b735dc-04ad-46db-8e23-ea6a662191c6",
   "metadata": {},
   "outputs": [],
   "source": [
    "# Test set difference (Z - CT) shuffled MSE\n",
    "lasso_diff_shuff = list(map(operator.sub, lasso_ct_mse_shuff, lasso_z_mse_shuff))"
   ]
  },
  {
   "cell_type": "code",
   "execution_count": 23,
   "id": "41217eeb-59d3-4b00-a393-8c76d795384f",
   "metadata": {},
   "outputs": [],
   "source": [
    "# Test set Z-score model MSE\n",
    "lasso_z_mse = 0.766\n",
    "\n",
    "# Test set Cortical Thickness model MSE\n",
    "lasso_ct_mse = 0.779"
   ]
  },
  {
   "cell_type": "code",
   "execution_count": 24,
   "id": "edcfdd8e-a65d-4107-8841-b709dda7103a",
   "metadata": {},
   "outputs": [],
   "source": [
    "lasso_z_mse_avg_shuff = np.mean(lasso_z_mse_shuff)"
   ]
  },
  {
   "cell_type": "code",
   "execution_count": 25,
   "id": "c3b1db92-2e0d-470d-a5e1-b1c2b2c0f5c3",
   "metadata": {},
   "outputs": [],
   "source": [
    "lasso_ct_mse_avg_shuff = np.mean(lasso_ct_mse_shuff)"
   ]
  },
  {
   "cell_type": "code",
   "execution_count": 56,
   "id": "eec633b6-2f6a-4e0b-9436-50761c720dd4",
   "metadata": {},
   "outputs": [],
   "source": [
    "# Test set difference (Z - CT) MSE\n",
    "lasso_diff = np.array(0.014)"
   ]
  },
  {
   "cell_type": "code",
   "execution_count": 57,
   "id": "8c45ff0e-e0a1-42b7-a3e9-cf0a495cb336",
   "metadata": {},
   "outputs": [
    {
     "name": "stdout",
     "output_type": "stream",
     "text": [
      "Permutation p-value is:  9.999000099990002e-05\n"
     ]
    }
   ],
   "source": [
    "pval_lasso = (np.sum(lasso_diff_shuff >= lasso_diff) + 1.0) / (n_permutations + 1)\n",
    "print(\"Permutation p-value is: \", pval_lasso)"
   ]
  },
  {
   "cell_type": "code",
   "execution_count": 27,
   "id": "17802465-eebf-478c-8f71-9a55597779f1",
   "metadata": {},
   "outputs": [
    {
     "data": {
      "text/plain": [
       "Text(0.5, 1.0, 'Lasso Regularization')"
      ]
     },
     "execution_count": 27,
     "metadata": {},
     "output_type": "execute_result"
    },
    {
     "data": {
      "image/png": "[encoded data removed]",
      "text/plain": [
       "<Figure size 432x288 with 1 Axes>"
      ]
     },
     "metadata": {
      "needs_background": "light"
     },
     "output_type": "display_data"
    }
   ],
   "source": [
    "result = plt.hist(lasso_z_mse_shuff, bins=20, color='b', edgecolor='k', alpha=0.65)\n",
    "result2 = plt.hist(lasso_ct_mse_shuff, bins=20, color='r', edgecolor='k', alpha=0.65)\n",
    "\n",
    "plt.axvline(lasso_z_mse, color='b', linestyle='dashed', linewidth=2)\n",
    "plt.axvline(lasso_ct_mse, color='r', linestyle='dashed', linewidth=2)\n",
    "\n",
    "labels= [\"True Z\", \"True Raw\", \"Shuffled Z\",\"Shuffled Raw\"]\n",
    "plt.legend(labels)\n",
    "\n",
    "plt.axvline(lasso_z_mse_avg_shuff, color='b', linestyle='dashed', linewidth=0.8)\n",
    "plt.axvline(lasso_ct_mse_avg_shuff, color='r', linestyle='dashed', linewidth=0.8)\n",
    "\n",
    "plt.xlabel(\"Mean Squared Error\", fontsize=16)  \n",
    "plt.ylabel(\" \", fontsize=16)\n",
    "plt.xticks(fontsize=14)  \n",
    "plt.yticks(fontsize=14)\n",
    "plt.title('Lasso Regularization', fontsize=18)"
   ]
  },
  {
   "cell_type": "markdown",
   "id": "0825b064-2b97-4942-923b-1c225f13d82a",
   "metadata": {},
   "source": [
    "### Ridge"
   ]
  },
  {
   "cell_type": "code",
   "execution_count": 28,
   "id": "36c91c9c-3bfb-4b4c-b401-a140348bb619",
   "metadata": {},
   "outputs": [],
   "source": [
    "# Test set Z-score shuffled model MSE\n",
    "ridge_z_mse_shuff = np.load('abcd_ridge_test_mse_z_shuff_arr.npy')\n",
    "\n",
    "# Test set Cortical Thickness shuffled model MSE\n",
    "ridge_ct_mse_shuff = np.load('abcd_ridge_test_mse_ct_shuff_arr.npy')"
   ]
  },
  {
   "cell_type": "code",
   "execution_count": 29,
   "id": "3098ea9c-7a18-48ce-9c69-1b87360dd5c5",
   "metadata": {},
   "outputs": [],
   "source": [
    "# Test set difference (Z - CT) shuffled MSE\n",
    "ridge_diff_shuff = list(map(operator.sub, ridge_ct_mse_shuff, ridge_z_mse_shuff))"
   ]
  },
  {
   "cell_type": "code",
   "execution_count": 30,
   "id": "bfd153fa-4739-4da5-8687-f03ff413ed9a",
   "metadata": {},
   "outputs": [],
   "source": [
    "# Test set Z-score model MSE\n",
    "ridge_z_mse = 0.801\n",
    "\n",
    "# Test set Cortical Thickness model MSE\n",
    "ridge_ct_mse = 0.788"
   ]
  },
  {
   "cell_type": "code",
   "execution_count": 31,
   "id": "a60e12f1-103d-47da-a3f6-0b18684ec447",
   "metadata": {},
   "outputs": [],
   "source": [
    "ridge_z_mse_avg_shuff = np.mean(ridge_z_mse_shuff)"
   ]
  },
  {
   "cell_type": "code",
   "execution_count": 32,
   "id": "38ba7148-2d01-4331-bc12-f07860ad1679",
   "metadata": {},
   "outputs": [],
   "source": [
    "ridge_ct_mse_avg_shuff = np.mean(ridge_ct_mse_shuff)"
   ]
  },
  {
   "cell_type": "code",
   "execution_count": 58,
   "id": "2a8cba52-4209-431c-a4f5-9f802958bd39",
   "metadata": {},
   "outputs": [],
   "source": [
    "# Test set difference (CT - Z) MSE\n",
    "ridge_diff = np.array(-0.012)"
   ]
  },
  {
   "cell_type": "code",
   "execution_count": 59,
   "id": "8297f854-5acb-454c-b077-34f417425db0",
   "metadata": {},
   "outputs": [
    {
     "name": "stdout",
     "output_type": "stream",
     "text": [
      "Permutation p-value is:  0.13908609139086092\n"
     ]
    }
   ],
   "source": [
    "pval_ridge = (np.sum(ridge_diff_shuff >= ridge_diff) + 1.0) / (n_permutations + 1)\n",
    "print(\"Permutation p-value is: \", pval_ridge)"
   ]
  },
  {
   "cell_type": "code",
   "execution_count": 35,
   "id": "8f26355e-c03d-4d47-a89b-22ef13b48390",
   "metadata": {},
   "outputs": [
    {
     "data": {
      "text/plain": [
       "Text(0.5, 1.0, 'Ridge Regularization')"
      ]
     },
     "execution_count": 35,
     "metadata": {},
     "output_type": "execute_result"
    },
    {
     "data": {
      "image/png": "[encoded data removed]",
      "text/plain": [
       "<Figure size 432x288 with 1 Axes>"
      ]
     },
     "metadata": {
      "needs_background": "light"
     },
     "output_type": "display_data"
    }
   ],
   "source": [
    "result = plt.hist(ridge_z_mse_shuff, bins=20, color='b', edgecolor='k', alpha=0.65)\n",
    "result2 = plt.hist(ridge_ct_mse_shuff, bins=20, color='r', edgecolor='k', alpha=0.65)\n",
    "\n",
    "plt.axvline(ridge_z_mse, color='b', linestyle='dashed', linewidth=2)\n",
    "plt.axvline(ridge_ct_mse, color='r', linestyle='dashed', linewidth=2)\n",
    "\n",
    "labels= [\"True Z\", \"True Raw\", \"Shuffled Z\",\"Shuffled Raw\"]\n",
    "plt.legend(labels)\n",
    "\n",
    "plt.axvline(ridge_z_mse_avg_shuff, color='b', linestyle='dashed', linewidth=0.8)\n",
    "plt.axvline(ridge_ct_mse_avg_shuff, color='r', linestyle='dashed', linewidth=0.8)\n",
    "\n",
    "plt.xlabel(\"Mean Squared Error\", fontsize=16)  \n",
    "plt.ylabel(\" \", fontsize=16)\n",
    "plt.xticks(fontsize=14)  \n",
    "plt.yticks(fontsize=14)\n",
    "plt.title('Ridge Regularization', fontsize=18)"
   ]
  },
  {
   "cell_type": "markdown",
   "id": "62fed379-ff71-4455-9fd4-39fb8337664b",
   "metadata": {},
   "source": [
    "### Elastic Net"
   ]
  },
  {
   "cell_type": "code",
   "execution_count": 36,
   "id": "7778c60e-14f9-4c98-ba68-26fd3a755942",
   "metadata": {},
   "outputs": [],
   "source": [
    "# Test set Z-score shuffled model MSE\n",
    "enet_z_mse_shuff = np.load('abcd_enet_test_mse_z_shuff_arr.npy')\n",
    "\n",
    "# Test set Cortical Thickness shuffled model MSE\n",
    "enet_ct_mse_shuff = np.load('abcd_enet_test_mse_ct_shuff_arr.npy')"
   ]
  },
  {
   "cell_type": "code",
   "execution_count": 37,
   "id": "11585fbc-085e-4c1e-8105-4b6f37df4f88",
   "metadata": {},
   "outputs": [],
   "source": [
    "# Test set difference (Z - CT) shuffled MSE\n",
    "enet_diff_shuff = list(map(operator.sub, enet_ct_mse_shuff, enet_z_mse_shuff))"
   ]
  },
  {
   "cell_type": "code",
   "execution_count": 39,
   "id": "bb99054e-3e3e-4bf0-83e6-bfc81bcc331e",
   "metadata": {},
   "outputs": [],
   "source": [
    "enet_z_mse_avg_shuff = np.mean(enet_z_mse_shuff)"
   ]
  },
  {
   "cell_type": "code",
   "execution_count": 40,
   "id": "50f75bb2-6627-47be-b2ea-8494707c13dd",
   "metadata": {},
   "outputs": [],
   "source": [
    "enet_ct_mse_avg_shuff = np.mean(enet_ct_mse_shuff)"
   ]
  },
  {
   "cell_type": "code",
   "execution_count": 41,
   "id": "061d72cc-7a35-4734-85fd-a7e77807bdb7",
   "metadata": {},
   "outputs": [],
   "source": [
    "# Test set Z-score model MSE\n",
    "enet_z_mse = 0.766\n",
    "\n",
    "# Test set Cortical Thickness model MSE\n",
    "enet_ct_mse = 0.779"
   ]
  },
  {
   "cell_type": "code",
   "execution_count": 60,
   "id": "7dab43c3-9c7c-4ea3-a156-9b0b46c7138c",
   "metadata": {},
   "outputs": [],
   "source": [
    "# Test set difference (Z - CT) MSE\n",
    "enet_diff = np.array(0.014)"
   ]
  },
  {
   "cell_type": "code",
   "execution_count": 61,
   "id": "bd269426-36ed-4508-ad2f-910a66b122a4",
   "metadata": {},
   "outputs": [
    {
     "name": "stdout",
     "output_type": "stream",
     "text": [
      "Permutation p-value is:  0.00019998000199980003\n"
     ]
    }
   ],
   "source": [
    "pval_enet = (np.sum(enet_diff_shuff >= enet_diff) + 1.0) / (n_permutations + 1)\n",
    "print(\"Permutation p-value is: \", pval_enet)"
   ]
  },
  {
   "cell_type": "code",
   "execution_count": 43,
   "id": "8e9d9be7-22d2-4fb8-820b-3cb642c4b4ad",
   "metadata": {},
   "outputs": [
    {
     "data": {
      "text/plain": [
       "Text(0.5, 1.0, 'Elastic Net Regularization')"
      ]
     },
     "execution_count": 43,
     "metadata": {},
     "output_type": "execute_result"
    },
    {
     "data": {
      "image/png": "[encoded data removed]",
      "text/plain": [
       "<Figure size 432x288 with 1 Axes>"
      ]
     },
     "metadata": {
      "needs_background": "light"
     },
     "output_type": "display_data"
    }
   ],
   "source": [
    "result = plt.hist(enet_z_mse_shuff, bins=20, color='b', edgecolor='k', alpha=0.65)\n",
    "result2 = plt.hist(enet_ct_mse_shuff, bins=20, color='r', edgecolor='k', alpha=0.65)\n",
    "\n",
    "plt.axvline(enet_z_mse, color='b', linestyle='dashed', linewidth=2)\n",
    "plt.axvline(enet_ct_mse, color='r', linestyle='dashed', linewidth=2)\n",
    "\n",
    "labels= [\"True Z\", \"True Raw\", \"Shuffled Z\",\"Shuffled Raw\"]\n",
    "plt.legend(labels)\n",
    "\n",
    "plt.axvline(enet_z_mse_avg_shuff, color='b', linestyle='dashed', linewidth=0.8)\n",
    "plt.axvline(enet_ct_mse_avg_shuff, color='r', linestyle='dashed', linewidth=0.8)\n",
    "\n",
    "plt.xlabel(\"Mean Squared Error\", fontsize=16)  \n",
    "plt.ylabel(\" \", fontsize=16)\n",
    "plt.xticks(fontsize=14)  \n",
    "plt.yticks(fontsize=14)\n",
    "plt.title('Elastic Net Regularization', fontsize=18)"
   ]
  },
  {
   "cell_type": "markdown",
   "id": "1e559950-40f4-435d-bc44-53b4d8f853ed",
   "metadata": {},
   "source": [
    "## HCP"
   ]
  },
  {
   "cell_type": "markdown",
   "id": "5fb2c513-fae8-4283-8a12-3aa4239932a3",
   "metadata": {},
   "source": [
    "### BBS"
   ]
  },
  {
   "cell_type": "code",
   "execution_count": 62,
   "id": "6ba91978-92a8-46cc-9e23-dae7e3c3aaa4",
   "metadata": {},
   "outputs": [],
   "source": [
    "# Test set Z-score shuffled model MSE\n",
    "bbs_z_mse_shuff = np.load('hcp_bbs_test_mse_z_shuff_arr.npy')\n",
    "\n",
    "# Test set Cortical Thickness shuffled model MSE\n",
    "bbs_ct_mse_shuff = np.load('hcp_bbs_test_mse_ct_shuff_arr.npy')"
   ]
  },
  {
   "cell_type": "code",
   "execution_count": 71,
   "id": "8fc8c310-a1dc-4949-aa7f-8bbd95de1e26",
   "metadata": {},
   "outputs": [],
   "source": [
    "# Test set difference (Z - CT) shuffled MSE\n",
    "bbs_diff_shuff = list(map(operator.sub, bbs_ct_mse_shuff, bbs_z_mse_shuff))"
   ]
  },
  {
   "cell_type": "code",
   "execution_count": 65,
   "id": "2ed2ee9e-3cee-4b2c-8cea-79eac1f989b2",
   "metadata": {},
   "outputs": [],
   "source": [
    "bbs_z_mse_avg_shuff = np.mean(bbs_z_mse_shuff)"
   ]
  },
  {
   "cell_type": "code",
   "execution_count": 66,
   "id": "554bd77a-aa3f-4976-a72b-1ffad947f183",
   "metadata": {},
   "outputs": [],
   "source": [
    "bbs_ct_mse_avg_shuff = np.mean(bbs_ct_mse_shuff)"
   ]
  },
  {
   "cell_type": "code",
   "execution_count": 67,
   "id": "1045d68e-c5a6-4695-a2aa-8e722d6f76f4",
   "metadata": {},
   "outputs": [],
   "source": [
    "# Test set Z-score model MSE\n",
    "bbs_z_mse = 0.741\n",
    "\n",
    "# Test set Cortical Thickness model MSE\n",
    "bbs_ct_mse = 0.830"
   ]
  },
  {
   "cell_type": "code",
   "execution_count": 68,
   "id": "ecbd48b0-cc29-4c6c-bf00-8f7794dfe9aa",
   "metadata": {},
   "outputs": [],
   "source": [
    "# Test set difference (Z - CT) MSE\n",
    "bbs_diff = np.array(0.049)"
   ]
  },
  {
   "cell_type": "code",
   "execution_count": 69,
   "id": "5d0b49c5-7731-4507-adc7-7d1c2db78354",
   "metadata": {},
   "outputs": [
    {
     "name": "stdout",
     "output_type": "stream",
     "text": [
      "Permutation p-value is:  0.06719328067193281\n"
     ]
    }
   ],
   "source": [
    "pval_bbs = (np.sum(bbs_diff_shuff >= bbs_diff) + 1.0) / (n_permutations + 1)\n",
    "print(\"Permutation p-value is: \", pval_bbs)"
   ]
  },
  {
   "cell_type": "code",
   "execution_count": 70,
   "id": "3ce834d6-e43c-4d40-b5e1-5180fce8e922",
   "metadata": {},
   "outputs": [
    {
     "data": {
      "text/plain": [
       "Text(0.5, 1.0, 'Principal Component Regression')"
      ]
     },
     "execution_count": 70,
     "metadata": {},
     "output_type": "execute_result"
    },
    {
     "data": {
      "image/png": "[encoded data removed]",
      "text/plain": [
       "<Figure size 432x288 with 1 Axes>"
      ]
     },
     "metadata": {
      "needs_background": "light"
     },
     "output_type": "display_data"
    }
   ],
   "source": [
    "result = plt.hist(bbs_z_mse_shuff, bins=20, color='b', edgecolor='k', alpha=0.65)\n",
    "result2 = plt.hist(bbs_ct_mse_shuff, bins=20, color='r', edgecolor='k', alpha=0.65)\n",
    "\n",
    "plt.axvline(bbs_z_mse, color='b', linestyle='dashed', linewidth=2)\n",
    "plt.axvline(bbs_ct_mse, color='r', linestyle='dashed', linewidth=2)\n",
    "\n",
    "labels= [\"True Z\", \"True Raw\", \"Shuffled Z\",\"Shuffled Raw\"]\n",
    "plt.legend(labels)\n",
    "\n",
    "plt.axvline(bbs_z_mse_avg_shuff, color='b', linestyle='dashed', linewidth=0.8)\n",
    "plt.axvline(bbs_ct_mse_avg_shuff, color='r', linestyle='dashed', linewidth=0.8)\n",
    "\n",
    "plt.xlabel(\"Mean Squared Error\", fontsize=16)  \n",
    "plt.ylabel(\" \", fontsize=16)\n",
    "plt.xticks(fontsize=14)  \n",
    "plt.yticks(fontsize=14)\n",
    "plt.title('Principal Component Regression', fontsize=18)"
   ]
  },
  {
   "cell_type": "markdown",
   "id": "f5443438-aba9-4ae3-9e9f-b32b15ae25f9",
   "metadata": {},
   "source": [
    "### CPM"
   ]
  },
  {
   "cell_type": "code",
   "execution_count": 72,
   "id": "1fdc754f-a485-4205-b35e-3c7c246b0f97",
   "metadata": {},
   "outputs": [],
   "source": [
    "# Test set Z-score shuffled model MSE\n",
    "cpm_z_mse_shuff = np.load('hcp_cpm_test_mse_z_shuff_arr.npy')\n",
    "\n",
    "# Test set Cortical Thickness shuffled model MSE\n",
    "cpm_ct_mse_shuff = np.load('hcp_cpm_test_mse_ct_shuff_arr.npy')"
   ]
  },
  {
   "cell_type": "code",
   "execution_count": 73,
   "id": "2e6a5542-4f17-4471-9370-e22f6f7f2141",
   "metadata": {},
   "outputs": [],
   "source": [
    "# Test set difference (Z - CT) shuffled MSE\n",
    "cpm_diff_shuff = list(map(operator.sub, cpm_ct_mse_shuff, cpm_z_mse_shuff))"
   ]
  },
  {
   "cell_type": "code",
   "execution_count": 75,
   "id": "cf002f9b-bf28-417c-b2b9-0ce55c800334",
   "metadata": {},
   "outputs": [],
   "source": [
    "cpm_z_mse_avg_shuff = np.mean(cpm_z_mse_shuff)"
   ]
  },
  {
   "cell_type": "code",
   "execution_count": 76,
   "id": "45b62f94-15d8-4d25-9de6-65d81763316f",
   "metadata": {},
   "outputs": [],
   "source": [
    "cpm_ct_mse_avg_shuff = np.mean(cpm_ct_mse_shuff)"
   ]
  },
  {
   "cell_type": "code",
   "execution_count": 77,
   "id": "7a016865-180d-4d85-96f7-3dfcc13cff4a",
   "metadata": {},
   "outputs": [],
   "source": [
    "# Test set Z-score model MSE\n",
    "cpm_z_mse = 0.714\n",
    "\n",
    "# Test set Cortical Thickness model MSE\n",
    "cpm_ct_mse = 0.777"
   ]
  },
  {
   "cell_type": "code",
   "execution_count": 78,
   "id": "89914ed8-e030-44ac-9985-c597e02a8235",
   "metadata": {},
   "outputs": [],
   "source": [
    "# Test set difference (Z - CT) MSE\n",
    "cpm_diff = np.array(0.049)"
   ]
  },
  {
   "cell_type": "code",
   "execution_count": 79,
   "id": "b394e852-6cf0-4153-95a2-a0526a79591a",
   "metadata": {},
   "outputs": [
    {
     "name": "stdout",
     "output_type": "stream",
     "text": [
      "Permutation p-value is:  0.00039996000399960006\n"
     ]
    }
   ],
   "source": [
    "pval_cpm = (np.sum(cpm_diff_shuff >= cpm_diff) + 1.0) / (n_permutations + 1)\n",
    "print(\"Permutation p-value is: \", pval_cpm)"
   ]
  },
  {
   "cell_type": "code",
   "execution_count": 80,
   "id": "e68cc397-eacd-403b-ad12-8d986cc563a4",
   "metadata": {},
   "outputs": [
    {
     "data": {
      "text/plain": [
       "Text(0.5, 1.0, 'Connectome Predictive Modeling')"
      ]
     },
     "execution_count": 80,
     "metadata": {},
     "output_type": "execute_result"
    },
    {
     "data": {
      "image/png": "[encoded data removed]",
      "text/plain": [
       "<Figure size 432x288 with 1 Axes>"
      ]
     },
     "metadata": {
      "needs_background": "light"
     },
     "output_type": "display_data"
    }
   ],
   "source": [
    "result = plt.hist(cpm_z_mse_shuff, bins=20, color='b', edgecolor='k', alpha=0.65)\n",
    "result2 = plt.hist(cpm_ct_mse_shuff, bins=20, color='r', edgecolor='k', alpha=0.65)\n",
    "\n",
    "plt.axvline(cpm_z_mse, color='b', linestyle='dashed', linewidth=2)\n",
    "plt.axvline(cpm_ct_mse, color='r', linestyle='dashed', linewidth=2)\n",
    "\n",
    "labels= [\"True Z\", \"True Raw\", \"Shuffled Z\",\"Shuffled Raw\"]\n",
    "plt.legend(labels)\n",
    "\n",
    "plt.axvline(cpm_z_mse_avg_shuff, color='b', linestyle='dashed', linewidth=0.8)\n",
    "plt.axvline(cpm_ct_mse_avg_shuff, color='r', linestyle='dashed', linewidth=0.8)\n",
    "\n",
    "plt.xlabel(\"Mean Squared Error\", fontsize=16)  \n",
    "plt.ylabel(\" \", fontsize=16)\n",
    "plt.xticks(fontsize=14)  \n",
    "plt.yticks(fontsize=14)\n",
    "plt.title('Connectome Predictive Modeling', fontsize=18)"
   ]
  },
  {
   "cell_type": "markdown",
   "id": "7fb885a8-c766-4fa3-9176-f85708d4bfc0",
   "metadata": {},
   "source": [
    "### Lasso"
   ]
  },
  {
   "cell_type": "code",
   "execution_count": 81,
   "id": "abb9a367-33b3-40bf-9699-7d74c93cf216",
   "metadata": {},
   "outputs": [],
   "source": [
    "# Test set Z-score shuffled model MSE\n",
    "lasso_z_mse_shuff = np.load('hcp_lasso_test_mse_z_shuff_arr.npy')\n",
    "\n",
    "# Test set Cortical Thickness shuffled model MSE\n",
    "lasso_ct_mse_shuff = np.load('hcp_lasso_test_mse_ct_shuff_arr.npy')"
   ]
  },
  {
   "cell_type": "code",
   "execution_count": 82,
   "id": "1efc378c-31a4-42a7-8cd3-46ed457a55ef",
   "metadata": {},
   "outputs": [],
   "source": [
    "# Test set difference (Z - CT) shuffled MSE\n",
    "lasso_diff_shuff = list(map(operator.sub, lasso_ct_mse_shuff, lasso_z_mse_shuff))"
   ]
  },
  {
   "cell_type": "code",
   "execution_count": 83,
   "id": "7a681ac0-0ba7-4063-b75a-764b976c3b57",
   "metadata": {},
   "outputs": [],
   "source": [
    "lasso_z_mse_avg_shuff = np.mean(lasso_z_mse_shuff)"
   ]
  },
  {
   "cell_type": "code",
   "execution_count": 84,
   "id": "30022983-e31b-40ef-af7f-2bbe9a3c3188",
   "metadata": {},
   "outputs": [],
   "source": [
    "lasso_ct_mse_avg_shuff = np.mean(lasso_ct_mse_shuff)"
   ]
  },
  {
   "cell_type": "code",
   "execution_count": 85,
   "id": "c354ef53-9516-498f-8f4b-1c3611083b86",
   "metadata": {},
   "outputs": [],
   "source": [
    "# Test set Z-score model MSE\n",
    "lasso_z_mse = 0.707\n",
    "\n",
    "# Test set Cortical Thickness model MSE\n",
    "lasso_ct_mse = 0.759"
   ]
  },
  {
   "cell_type": "code",
   "execution_count": 86,
   "id": "3751ae31-ff8b-41cc-91ea-3c220a7139d5",
   "metadata": {},
   "outputs": [],
   "source": [
    "# Test set difference (Z - CT) MSE\n",
    "lasso_diff = np.array(0.051)"
   ]
  },
  {
   "cell_type": "code",
   "execution_count": 87,
   "id": "d3602d4b-b486-435e-b066-647915dd828a",
   "metadata": {},
   "outputs": [
    {
     "name": "stdout",
     "output_type": "stream",
     "text": [
      "Permutation p-value is:  9.999000099990002e-05\n"
     ]
    }
   ],
   "source": [
    "pval_lasso = (np.sum(lasso_diff_shuff >= lasso_diff) + 1.0) / (n_permutations + 1)\n",
    "print(\"Permutation p-value is: \", pval_lasso)"
   ]
  },
  {
   "cell_type": "code",
   "execution_count": 88,
   "id": "5bda6667-7769-4c19-840c-96a1f797696e",
   "metadata": {},
   "outputs": [
    {
     "data": {
      "text/plain": [
       "Text(0.5, 1.0, 'Lasso Regularization')"
      ]
     },
     "execution_count": 88,
     "metadata": {},
     "output_type": "execute_result"
    },
    {
     "data": {
      "image/png": "[encoded data removed]",
      "text/plain": [
       "<Figure size 432x288 with 1 Axes>"
      ]
     },
     "metadata": {
      "needs_background": "light"
     },
     "output_type": "display_data"
    }
   ],
   "source": [
    "result = plt.hist(lasso_z_mse_shuff, bins=20, color='b', edgecolor='k', alpha=0.65)\n",
    "result2 = plt.hist(lasso_ct_mse_shuff, bins=20, color='r', edgecolor='k', alpha=0.65)\n",
    "\n",
    "plt.axvline(lasso_z_mse, color='b', linestyle='dashed', linewidth=2)\n",
    "plt.axvline(lasso_ct_mse, color='r', linestyle='dashed', linewidth=2)\n",
    "\n",
    "labels= [\"True Z\", \"True Raw\", \"Shuffled Z\",\"Shuffled Raw\"]\n",
    "plt.legend(labels)\n",
    "\n",
    "plt.axvline(lasso_z_mse_avg_shuff, color='b', linestyle='dashed', linewidth=0.8)\n",
    "plt.axvline(lasso_ct_mse_avg_shuff, color='r', linestyle='dashed', linewidth=0.8)\n",
    "\n",
    "plt.xlabel(\"Mean Squared Error\", fontsize=16)  \n",
    "plt.ylabel(\" \", fontsize=16)\n",
    "plt.xticks(fontsize=14)  \n",
    "plt.yticks(fontsize=14)\n",
    "plt.title('Lasso Regularization', fontsize=18)"
   ]
  },
  {
   "cell_type": "markdown",
   "id": "53f5b85b-62d4-49f0-9d7d-0973cb09c8fa",
   "metadata": {},
   "source": [
    "### Ridge"
   ]
  },
  {
   "cell_type": "code",
   "execution_count": 89,
   "id": "774a3935-8244-4161-937b-50c624b283ff",
   "metadata": {},
   "outputs": [],
   "source": [
    "# Test set Z-score shuffled model MSE\n",
    "ridge_z_mse_shuff = np.load('hcp_ridge_test_mse_z_shuff_arr.npy')\n",
    "\n",
    "# Test set Cortical Thickness shuffled model MSE\n",
    "ridge_ct_mse_shuff = np.load('hcp_ridge_test_mse_ct_shuff_arr.npy')"
   ]
  },
  {
   "cell_type": "code",
   "execution_count": 90,
   "id": "8ed57ef7-97db-45d1-92e9-b99bcada8de3",
   "metadata": {},
   "outputs": [],
   "source": [
    "# Test set difference (Z - CT) shuffled MSE\n",
    "ridge_diff_shuff = list(map(operator.sub, ridge_ct_mse_shuff, ridge_z_mse_shuff))"
   ]
  },
  {
   "cell_type": "code",
   "execution_count": 91,
   "id": "3a0d6373-a377-421c-9ef4-ac64a2743687",
   "metadata": {},
   "outputs": [],
   "source": [
    "ridge_z_mse_avg_shuff = np.mean(ridge_z_mse_shuff)"
   ]
  },
  {
   "cell_type": "code",
   "execution_count": 92,
   "id": "61b73ffb-502c-4352-838a-ed515241b441",
   "metadata": {},
   "outputs": [],
   "source": [
    "ridge_ct_mse_avg_shuff = np.mean(ridge_ct_mse_shuff)"
   ]
  },
  {
   "cell_type": "code",
   "execution_count": 93,
   "id": "e2822359-7831-4d89-8ddd-3d7267d95855",
   "metadata": {},
   "outputs": [],
   "source": [
    "# Test set Z-score model MSE\n",
    "ridge_z_mse = 0.870\n",
    "\n",
    "# Test set Cortical Thickness model MSE\n",
    "ridge_ct_mse = 0.756"
   ]
  },
  {
   "cell_type": "code",
   "execution_count": 94,
   "id": "71c720a6-192a-4034-805c-bc2c3a33dc18",
   "metadata": {},
   "outputs": [],
   "source": [
    "# Test set difference (Z - CT) MSE\n",
    "ridge_diff = np.array(-0.114)"
   ]
  },
  {
   "cell_type": "code",
   "execution_count": 95,
   "id": "9c73e7cb-09b5-4416-88e5-da4c2e98e128",
   "metadata": {},
   "outputs": [
    {
     "name": "stdout",
     "output_type": "stream",
     "text": [
      "Permutation p-value is:  0.19158084191580843\n"
     ]
    }
   ],
   "source": [
    "pval_ridge = (np.sum(ridge_diff_shuff >= ridge_diff) + 1.0) / (n_permutations + 1)\n",
    "print(\"Permutation p-value is: \", pval_ridge)"
   ]
  },
  {
   "cell_type": "code",
   "execution_count": 96,
   "id": "8baf8642-e530-44bb-a307-4bca3542e786",
   "metadata": {},
   "outputs": [
    {
     "data": {
      "text/plain": [
       "Text(0.5, 1.0, 'Ridge Regularization')"
      ]
     },
     "execution_count": 96,
     "metadata": {},
     "output_type": "execute_result"
    },
    {
     "data": {
      "image/png": "[encoded data removed]",
      "text/plain": [
       "<Figure size 432x288 with 1 Axes>"
      ]
     },
     "metadata": {
      "needs_background": "light"
     },
     "output_type": "display_data"
    }
   ],
   "source": [
    "result = plt.hist(ridge_z_mse_shuff, bins=20, color='b', edgecolor='k', alpha=0.65)\n",
    "result2 = plt.hist(ridge_ct_mse_shuff, bins=20, color='r', edgecolor='k', alpha=0.65)\n",
    "\n",
    "plt.axvline(ridge_z_mse, color='b', linestyle='dashed', linewidth=2)\n",
    "plt.axvline(ridge_ct_mse, color='r', linestyle='dashed', linewidth=2)\n",
    "\n",
    "labels= [\"True Z\", \"True Raw\", \"Shuffled Z\",\"Shuffled Raw\"]\n",
    "plt.legend(labels)\n",
    "\n",
    "plt.axvline(ridge_z_mse_avg_shuff, color='b', linestyle='dashed', linewidth=0.8)\n",
    "plt.axvline(ridge_ct_mse_avg_shuff, color='r', linestyle='dashed', linewidth=0.8)\n",
    "\n",
    "plt.xlabel(\"Mean Squared Error\", fontsize=16)  \n",
    "plt.ylabel(\" \", fontsize=16)\n",
    "plt.xticks(fontsize=14)  \n",
    "plt.yticks(fontsize=14)\n",
    "plt.title('Ridge Regularization', fontsize=18)"
   ]
  },
  {
   "cell_type": "markdown",
   "id": "579adf32-09ab-408e-90f7-4105e7255bc1",
   "metadata": {},
   "source": [
    "### Elastic Net"
   ]
  },
  {
   "cell_type": "code",
   "execution_count": 97,
   "id": "cb078bb9-a479-403f-a5d8-434eaf82de49",
   "metadata": {},
   "outputs": [],
   "source": [
    "# Test set Z-score shuffled model MSE\n",
    "enet_z_mse_shuff = np.load('hcp_enet_test_mse_z_shuff_arr.npy')\n",
    "\n",
    "# Test set Cortical Thickness shuffled model MSE\n",
    "enet_ct_mse_shuff = np.load('hcp_enet_test_mse_ct_shuff_arr.npy')"
   ]
  },
  {
   "cell_type": "code",
   "execution_count": 98,
   "id": "5ba1241e-0ee8-4309-93c2-1aaa8af2957a",
   "metadata": {},
   "outputs": [],
   "source": [
    "# Test set difference (Z - CT) shuffled MSE\n",
    "enet_diff_shuff = list(map(operator.sub, enet_ct_mse_shuff, enet_z_mse_shuff))"
   ]
  },
  {
   "cell_type": "code",
   "execution_count": 99,
   "id": "c0a6fc07-293e-406e-9d66-13da3e976a59",
   "metadata": {},
   "outputs": [],
   "source": [
    "enet_z_mse_avg_shuff = np.mean(enet_z_mse_shuff)"
   ]
  },
  {
   "cell_type": "code",
   "execution_count": 100,
   "id": "574d0fb7-d51d-4c8b-8421-14c53d0615a6",
   "metadata": {},
   "outputs": [],
   "source": [
    "enet_ct_mse_avg_shuff = np.mean(enet_ct_mse_shuff)"
   ]
  },
  {
   "cell_type": "code",
   "execution_count": 101,
   "id": "26f698e0-1740-4a2f-8708-d6995a82641a",
   "metadata": {},
   "outputs": [],
   "source": [
    "# Test set Z-score model MSE\n",
    "enet_z_mse = 0.697\n",
    "\n",
    "# Test set Cortical Thickness model MSE\n",
    "enet_ct_mse = 0.746"
   ]
  },
  {
   "cell_type": "code",
   "execution_count": 102,
   "id": "040008d2-5528-4a3f-9570-b1a2f7514a10",
   "metadata": {},
   "outputs": [],
   "source": [
    "# Test set difference (Z - CT) MSE\n",
    "enet_diff = np.array(0.049)"
   ]
  },
  {
   "cell_type": "code",
   "execution_count": 103,
   "id": "fcd9a7d8-52b0-4131-9fa1-3362d9665f79",
   "metadata": {},
   "outputs": [
    {
     "name": "stdout",
     "output_type": "stream",
     "text": [
      "Permutation p-value is:  0.00019998000199980003\n"
     ]
    }
   ],
   "source": [
    "pval_enet = (np.sum(enet_diff_shuff >= enet_diff) + 1.0) / (n_permutations + 1)\n",
    "print(\"Permutation p-value is: \", pval_enet)"
   ]
  },
  {
   "cell_type": "code",
   "execution_count": 104,
   "id": "8df035e5-4e69-4aee-8570-2d2f0d06cc4e",
   "metadata": {},
   "outputs": [
    {
     "data": {
      "text/plain": [
       "Text(0.5, 1.0, 'Elastic Net Regularization')"
      ]
     },
     "execution_count": 104,
     "metadata": {},
     "output_type": "execute_result"
    },
    {
     "data": {
      "image/png": "[encoded data removed]",
      "text/plain": [
       "<Figure size 432x288 with 1 Axes>"
      ]
     },
     "metadata": {
      "needs_background": "light"
     },
     "output_type": "display_data"
    }
   ],
   "source": [
    "result = plt.hist(enet_z_mse_shuff, bins=20, color='b', edgecolor='k', alpha=0.65)\n",
    "result2 = plt.hist(enet_ct_mse_shuff, bins=20, color='r', edgecolor='k', alpha=0.65)\n",
    "\n",
    "plt.axvline(enet_z_mse, color='b', linestyle='dashed', linewidth=2)\n",
    "plt.axvline(enet_ct_mse, color='r', linestyle='dashed', linewidth=2)\n",
    "\n",
    "labels= [\"True Z\", \"True Raw\", \"Shuffled Z\",\"Shuffled Raw\"]\n",
    "plt.legend(labels)\n",
    "\n",
    "plt.axvline(enet_z_mse_avg_shuff, color='b', linestyle='dashed', linewidth=0.8)\n",
    "plt.axvline(enet_ct_mse_avg_shuff, color='r', linestyle='dashed', linewidth=0.8)\n",
    "\n",
    "plt.xlabel(\"Mean Squared Error\", fontsize=16)  \n",
    "plt.ylabel(\" \", fontsize=16)\n",
    "plt.xticks(fontsize=14)  \n",
    "plt.yticks(fontsize=14)\n",
    "plt.title('Elastic Net Regularization', fontsize=18)"
   ]
  },
  {
   "cell_type": "markdown",
   "id": "d58d5d68-c7ac-47ef-8c28-7a32c1423715",
   "metadata": {},
   "source": [
    "# Group Difference Testing"
   ]
  },
  {
   "cell_type": "code",
   "execution_count": 106,
   "id": "ec70c663-fbb2-45d5-a39f-0d9a04cba33f",
   "metadata": {},
   "outputs": [],
   "source": [
    "ct_count = np.load('../09-06-2022/sz_cc_ct_count.npy')\n",
    "ct_count_shuff = np.load('../09-06-2022/sz_cc_ct_count_shuff.npy')\n",
    "z_count = np.load('../09-06-2022/sz_cc_z_count.npy')\n",
    "z_count_shuff = np.load('../09-06-2022/sz_cc_z_count_shuff.npy')"
   ]
  },
  {
   "cell_type": "code",
   "execution_count": 115,
   "id": "ff22398c-bb55-4681-875b-287be33ed472",
   "metadata": {},
   "outputs": [],
   "source": [
    "z_ct_diff = np.load('../09-06-2022/sz_diff_true_case_control_test.npy')\n",
    "z_ct_diff_shuff = np.load('../09-06-2022/sz_diff_shuff_case_control_test.npy')"
   ]
  },
  {
   "cell_type": "code",
   "execution_count": 114,
   "id": "8fb79290-a5aa-44c2-a63f-4ccc64a4bee9",
   "metadata": {},
   "outputs": [
    {
     "name": "stdout",
     "output_type": "stream",
     "text": [
      "9.999000099990002e-05\n"
     ]
    }
   ],
   "source": [
    "pval = np.load('../09-06-2022/sz_pvalue_case_control_testing.npy')\n",
    "print(pval)"
   ]
  }
 ],
 "metadata": {
  "kernelspec": {
   "display_name": "Python 3",
   "language": "python",
   "name": "python3"
  },
  "language_info": {
   "codemirror_mode": {
    "name": "ipython",
    "version": 3
   },
   "file_extension": ".py",
   "mimetype": "text/x-python",
   "name": "python",
   "nbconvert_exporter": "python",
   "pygments_lexer": "ipython3",
   "version": "3.8.8"
  }
 },
 "nbformat": 4,
 "nbformat_minor": 5
}
