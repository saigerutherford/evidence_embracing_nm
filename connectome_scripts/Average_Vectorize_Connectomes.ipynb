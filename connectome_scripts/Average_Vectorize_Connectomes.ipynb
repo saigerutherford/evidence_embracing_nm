{
 "cells": [
  {
   "cell_type": "code",
   "execution_count": 1,
   "metadata": {},
   "outputs": [],
   "source": [
    "import numpy as np\n",
    "import pandas as pd\n",
    "import pickle"
   ]
  },
  {
   "cell_type": "code",
   "execution_count": 2,
   "metadata": {},
   "outputs": [],
   "source": [
    "network_pairs = ['1_2','1_3','1_4','1_5','1_6','1_7','1_8','1_9','1_10','1_11','1_12','1_13','1_14','1_15','1_16','1_17',\n",
    "'2_3','2_4','2_5','2_6','2_7','2_8','2_9','2_10','2_11','2_12','2_13','2_14','2_15','2_16','2_17',\n",
    "'3_4','3_5','3_6','3_7','3_8','3_9','3_10','3_11','3_12','3_13','3_14','3_15','3_16','3_17',\n",
    "'4_5','4_6','4_7','4_8','4_9','4_10','4_11','4_12','4_13','4_14','4_15','4_16','4_17',\n",
    "'5_6','5_7','5_8','5_9','5_10','5_11','5_12','5_13','5_14','5_15','5_16','5_17',\n",
    "'6_7','6_8','6_9','6_10','6_11','6_12','6_13','6_14','6_15','6_16','6_17',\n",
    "'7_8','7_9','7_10','7_11','7_12','7_13','7_14','7_15','7_16','7_17',\n",
    "'8_9','8_10','8_11','8_12','8_13','8_14','8_15','8_16','8_17',\n",
    "'9_10','9_11','9_12','9_13','9_14','9_15','9_16','9_17',\n",
    "'10_11','10_12','10_13','10_14','10_15','10_16','10_17',\n",
    "'11_12','11_13','11_14','11_15','11_16','11_17',\n",
    "'12_13','12_14','12_15','12_16','12_17',\n",
    "'13_14','13_15','13_16','13_17',\n",
    "'14_15','14_16','14_17',\n",
    "'15_16','15-17',\n",
    "'16_17']"
   ]
  },
  {
   "attachments": {},
   "cell_type": "markdown",
   "metadata": {},
   "source": [
    "## Vectorize Connectomes Example (single run)"
   ]
  },
  {
   "cell_type": "code",
   "execution_count": 5,
   "metadata": {},
   "outputs": [],
   "source": [
    "subs_file = pd.read_csv('/path_to_connectomes/yeo17/cobre/cobre.csv')"
   ]
  },
  {
   "cell_type": "code",
   "execution_count": 6,
   "metadata": {
    "tags": []
   },
   "outputs": [],
   "source": [
    "conn_mtx = []\n",
    "subs = subs_file['subjects']\n",
    "for i in range(0,len(subs_file)):\n",
    "    SR = subs_file['subjects'].iloc[i]\n",
    "    conn = np.array(pd.read_csv(f'/path_to_connectomes/yeo17/cobre/{SR}.txt',\n",
    "                      delim_whitespace=True,header=None).iloc[0:17,0:17])\n",
    "    conn_mtx.append(conn)"
   ]
  },
  {
   "cell_type": "code",
   "execution_count": 7,
   "metadata": {},
   "outputs": [
    {
     "name": "stdout",
     "output_type": "stream",
     "text": [
      "(148, 136)\n"
     ]
    }
   ],
   "source": [
    "### vectorize the matrices\n",
    "utri_idxs = np.triu_indices(17, k=1)\n",
    "good_edges = np.zeros((len(conn_mtx),len(utri_idxs[0])))\n",
    "\n",
    "for i in range(0,len(conn_mtx)):\n",
    "    good_edges[i,:] = conn_mtx[i][utri_idxs]\n",
    "print(good_edges.shape)\n",
    "good_edges = np.arctanh(good_edges)  ## fisher z-transform"
   ]
  },
  {
   "cell_type": "code",
   "execution_count": 8,
   "metadata": {},
   "outputs": [],
   "source": [
    "cobre = pd.DataFrame(data=good_edges, columns=network_pairs)"
   ]
  },
  {
   "cell_type": "code",
   "execution_count": 9,
   "metadata": {},
   "outputs": [],
   "source": [
    "cobre['sub_id'] = subs"
   ]
  },
  {
   "cell_type": "code",
   "execution_count": 10,
   "metadata": {},
   "outputs": [],
   "source": [
    "cobre.to_csv('/path_to_connectomes/yeo17/cobre/cobre_rest_vectorized.csv', index=False)"
   ]
  },
  {
   "attachments": {},
   "cell_type": "markdown",
   "metadata": {},
   "source": [
    "## Vectorize Connectomes Example (multiple runs)"
   ]
  },
  {
   "cell_type": "code",
   "execution_count": 105,
   "metadata": {},
   "outputs": [],
   "source": [
    "subs_file = pd.read_csv('/path_to_connectomes/yeo17/HCP_Aging/hcpage.csv')"
   ]
  },
  {
   "cell_type": "code",
   "execution_count": 106,
   "metadata": {},
   "outputs": [],
   "source": [
    "subs_file.dropna(inplace=True)"
   ]
  },
  {
   "cell_type": "code",
   "execution_count": 107,
   "metadata": {
    "tags": []
   },
   "outputs": [],
   "source": [
    "conn_mtx = []\n",
    "avgs = []\n",
    "subs = []\n",
    "runs = 0\n",
    "for i in range(0,len(subs_file)):\n",
    "    sub = subs_file['subs'].iloc[i]\n",
    "    runs = int(subs_file['runs'].str.replace('run-','').iloc[i])\n",
    "    SR = subs_file['sub_runs'].iloc[i]\n",
    "    conn = np.array(pd.read_csv(f'/path_to_connectomes/yeo17/HCP_Aging/{SR}.txt',\n",
    "                      delim_whitespace=True,header=None).iloc[0:17,0:17])\n",
    "    conn_mtx.append(conn)\n",
    "    assert SR == f'{sub}_run-{runs}'\n",
    "    if (sub == subs_file['subs'].iloc[i-1]) & (i+2 > len(subs_file)):\n",
    "        subs.append(sub)\n",
    "        for k in range(0,runs):\n",
    "            new_mtx = conn_mtx[i-1*k]\n",
    "            if k == 0:\n",
    "                sum_mtx = new_mtx\n",
    "            else:\n",
    "                sum_mtx = [[sum_mtx[i][j] + new_mtx[i][j] for j in range(len(sum_mtx[0]))] for i in range(len(sum_mtx))]\n",
    "        avg = np.divide(sum_mtx,runs)\n",
    "        avgs.append(avg)\n",
    "    elif (sub == subs_file['subs'].iloc[i-1]) & (sub != subs_file['subs'].iloc[i+1]):\n",
    "        subs.append(sub)\n",
    "        for k in range(0,runs):\n",
    "            new_mtx = conn_mtx[i-1*k]\n",
    "            if k == 0:\n",
    "                sum_mtx = new_mtx\n",
    "            else:\n",
    "                sum_mtx = [[sum_mtx[i][j] + new_mtx[i][j] for j in range(len(sum_mtx[0]))] for i in range(len(sum_mtx))]\n",
    "        avg = np.divide(sum_mtx,runs)\n",
    "        avgs.append(avg)"
   ]
  },
  {
   "cell_type": "code",
   "execution_count": 108,
   "metadata": {
    "tags": []
   },
   "outputs": [
    {
     "name": "stdout",
     "output_type": "stream",
     "text": [
      "(725, 136)\n"
     ]
    }
   ],
   "source": [
    "### vectorize the matrices\n",
    "utri_idxs = np.triu_indices(17, k=1)\n",
    "good_edges = np.zeros((len(avgs),len(utri_idxs[0])))\n",
    "\n",
    "for i in range(0,len(avgs)):\n",
    "    good_edges[i,:] = avgs[i][utri_idxs]\n",
    "print(good_edges.shape)\n",
    "good_edges = np.arctanh(good_edges)  ## fisher z-transform"
   ]
  },
  {
   "cell_type": "code",
   "execution_count": 109,
   "metadata": {},
   "outputs": [],
   "source": [
    "hcpage = pd.DataFrame(data=good_edges, columns=network_pairs)"
   ]
  },
  {
   "cell_type": "code",
   "execution_count": 110,
   "metadata": {},
   "outputs": [
    {
     "data": {
      "text/plain": [
       "725"
      ]
     },
     "execution_count": 110,
     "metadata": {},
     "output_type": "execute_result"
    }
   ],
   "source": [
    "len(subs)"
   ]
  },
  {
   "cell_type": "code",
   "execution_count": 111,
   "metadata": {},
   "outputs": [],
   "source": [
    "hcpage['sub_id'] = subs"
   ]
  },
  {
   "cell_type": "code",
   "execution_count": 112,
   "metadata": {},
   "outputs": [],
   "source": [
    "hcpage.to_csv('/path_to_connectomes/yeo17/HCP_Aging/hcpage_rest_vectorized.csv', index=False)"
   ]
  }
 ],
 "metadata": {
  "kernelspec": {
   "display_name": "Python 3 (ipykernel)",
   "language": "python",
   "name": "python3"
  },
  "language_info": {
   "codemirror_mode": {
    "name": "ipython",
    "version": 3
   },
   "file_extension": ".py",
   "mimetype": "text/x-python",
   "name": "python",
   "nbconvert_exporter": "python",
   "pygments_lexer": "ipython3",
   "version": "3.8.3"
  }
 },
 "nbformat": 4,
 "nbformat_minor": 4
}
