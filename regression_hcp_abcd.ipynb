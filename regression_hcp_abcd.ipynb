{
 "cells": [
  {
   "cell_type": "code",
   "execution_count": 2,
   "metadata": {
    "ExecuteTime": {
     "end_time": "2020-02-28T17:56:57.496449Z",
     "start_time": "2020-02-28T17:56:57.486640Z"
    },
    "colab": {
     "base_uri": "https://localhost:8080/",
     "height": 17
    },
    "id": "GKUCHivJfOF_",
    "outputId": "34facb77-8bbe-47e1-d569-4f306cb19a1f"
   },
   "outputs": [
    {
     "data": {
      "text/html": [
       "<style>.container { width:95% !important; }</style>"
      ],
      "text/plain": [
       "<IPython.core.display.HTML object>"
      ]
     },
     "metadata": {},
     "output_type": "display_data"
    }
   ],
   "source": [
    "from IPython.core.display import display, HTML\n",
    "display(HTML(\"<style>.container { width:95% !important; }</style>\"))"
   ]
  },
  {
   "cell_type": "code",
   "execution_count": 3,
   "metadata": {
    "ExecuteTime": {
     "end_time": "2020-02-27T21:49:43.572309Z",
     "start_time": "2020-02-27T21:49:43.566414Z"
    },
    "id": "IRG2nlngfOF_"
   },
   "outputs": [],
   "source": [
    "import os\n",
    "import pandas as pd\n",
    "import numpy as np\n",
    "from matplotlib import pyplot as plt\n",
    "from scipy import stats, linalg\n",
    "from sklearn import preprocessing, decomposition, linear_model, metrics \n",
    "from sklearn.utils import shuffle\n",
    "import warnings"
   ]
  },
  {
   "cell_type": "code",
   "execution_count": 4,
   "metadata": {
    "ExecuteTime": {
     "end_time": "2020-02-28T18:47:50.679060Z",
     "start_time": "2020-02-28T18:47:50.664890Z"
    },
    "id": "3a--9Vw0fOGA"
   },
   "outputs": [],
   "source": [
    "# set fontsizes for matplotlib plots\n",
    "baseline_fontsize = 12\n",
    "SMALL_SIZE = 8 + baseline_fontsize\n",
    "MEDIUM_SIZE = 10 + baseline_fontsize\n",
    "BIGGER_SIZE = 12 + baseline_fontsize\n",
    "\n",
    "plt.rc('font', size=SMALL_SIZE)          # controls default text sizes\n",
    "plt.rc('axes', titlesize=SMALL_SIZE)     # fontsize of the axes title\n",
    "plt.rc('axes', labelsize=MEDIUM_SIZE)    # fontsize of the x and y labels\n",
    "plt.rc('xtick', labelsize=SMALL_SIZE)    # fontsize of the tick labels\n",
    "plt.rc('ytick', labelsize=SMALL_SIZE)    # fontsize of the tick labels\n",
    "plt.rc('legend', fontsize=SMALL_SIZE)    # legend fontsize\n",
    "plt.rc('figure', titlesize=BIGGER_SIZE)  # fontsize of the figure title"
   ]
  },
  {
   "cell_type": "markdown",
   "metadata": {
    "id": "RxNdjPGFfOGA"
   },
   "source": [
    "# Load Data"
   ]
  },
  {
   "cell_type": "code",
   "execution_count": 5,
   "metadata": {
    "ExecuteTime": {
     "end_time": "2020-02-27T20:46:55.631289Z",
     "start_time": "2020-02-27T20:46:54.423706Z"
    },
    "id": "SFgOp55_fOGB"
   },
   "outputs": [],
   "source": [
    "hcp_z = np.load('hcpya_z.npy')\n",
    "hcp_ct = np.load('hcpya_ct.npy')\n",
    "hcp_g = np.load('hcpya_g.npy')"
   ]
  },
  {
   "cell_type": "code",
   "execution_count": 6,
   "metadata": {
    "ExecuteTime": {
     "end_time": "2020-02-27T20:46:55.631289Z",
     "start_time": "2020-02-27T20:46:54.423706Z"
    },
    "id": "SFgOp55_fOGB"
   },
   "outputs": [],
   "source": [
    "abcd_z = np.load('abcd_z.npy')\n",
    "abcd_ct = np.load('abcd_ct.npy')\n",
    "abcd_g = np.load('abcd_g.npy')"
   ]
  },
  {
   "cell_type": "code",
   "execution_count": 7,
   "metadata": {
    "ExecuteTime": {
     "end_time": "2020-02-27T20:46:55.650333Z",
     "start_time": "2020-02-27T20:46:55.638448Z"
    },
    "colab": {
     "base_uri": "https://localhost:8080/"
    },
    "id": "Em-CHnfbfOGC",
    "outputId": "9ddb5fdf-b946-419f-fe70-6ae23a55eee2"
   },
   "outputs": [
    {
     "name": "stdout",
     "output_type": "stream",
     "text": [
      "(946, 187)\n",
      "(946, 151)\n",
      "(946,)\n"
     ]
    }
   ],
   "source": [
    "print(hcp_z.shape)\n",
    "print(hcp_ct.shape)\n",
    "print(hcp_g.shape)"
   ]
  },
  {
   "cell_type": "code",
   "execution_count": 8,
   "metadata": {
    "ExecuteTime": {
     "end_time": "2020-02-27T20:46:55.650333Z",
     "start_time": "2020-02-27T20:46:55.638448Z"
    },
    "colab": {
     "base_uri": "https://localhost:8080/"
    },
    "id": "Em-CHnfbfOGC",
    "outputId": "9ddb5fdf-b946-419f-fe70-6ae23a55eee2"
   },
   "outputs": [
    {
     "name": "stdout",
     "output_type": "stream",
     "text": [
      "(4717, 187)\n",
      "(4717, 151)\n",
      "(4717,)\n"
     ]
    }
   ],
   "source": [
    "print(abcd_z.shape)\n",
    "print(abcd_ct.shape)\n",
    "print(abcd_g.shape)"
   ]
  },
  {
   "cell_type": "markdown",
   "metadata": {
    "id": "nKlsJF5ffOGD"
   },
   "source": [
    "# HCP Create Train/Test Splits"
   ]
  },
  {
   "cell_type": "code",
   "execution_count": 9,
   "metadata": {
    "ExecuteTime": {
     "end_time": "2020-02-28T18:06:31.317947Z",
     "start_time": "2020-02-28T18:06:31.286075Z"
    },
    "id": "hiFF4_kSfOGD"
   },
   "outputs": [],
   "source": [
    "# generate train/test splits\n",
    "np.random.seed(42)\n",
    "n_train = int(0.8 * hcp_z.shape[0])\n",
    "\n",
    "train_idxs = np.random.choice(range(hcp_z.shape[0]), size=n_train, replace=False)\n",
    "test_idxs = np.array([x for x in range(hcp_z.shape[0]) if x not in train_idxs])"
   ]
  },
  {
   "cell_type": "code",
   "execution_count": 10,
   "metadata": {
    "ExecuteTime": {
     "end_time": "2020-02-28T19:27:03.079155Z",
     "start_time": "2020-02-28T19:27:02.301318Z"
    },
    "id": "nRetH6v1fOGD"
   },
   "outputs": [],
   "source": [
    "train_data_z = hcp_z[train_idxs, :]\n",
    "test_data_z = hcp_z[test_idxs, :]\n",
    "\n",
    "train_data_ct = hcp_ct[train_idxs, :]\n",
    "test_data_ct = hcp_ct[test_idxs, :]\n",
    "\n",
    "train_phen = hcp_g[train_idxs]\n",
    "test_phen = hcp_g[test_idxs]"
   ]
  },
  {
   "cell_type": "code",
   "execution_count": 11,
   "metadata": {
    "ExecuteTime": {
     "end_time": "2020-02-28T18:06:33.825306Z",
     "start_time": "2020-02-28T18:06:32.401774Z"
    },
    "id": "8BGKcvb5fOGE"
   },
   "outputs": [],
   "source": [
    "# mean center train/test data (using train means)\n",
    "train_mu_centered_z = (train_data_z - train_data_z.mean(axis=0))\n",
    "test_mu_centered_z = (test_data_z - train_data_z.mean(axis=0))\n",
    "\n",
    "train_mu_centered_ct = (train_data_ct - train_data_ct.mean(axis=0))\n",
    "test_mu_centered_ct = (test_data_ct - train_data_ct.mean(axis=0))"
   ]
  },
  {
   "cell_type": "markdown",
   "metadata": {
    "id": "ETQ80vjTfOGE"
   },
   "source": [
    "# HCP Principal Component Regression (BBS)"
   ]
  },
  {
   "cell_type": "code",
   "execution_count": 12,
   "metadata": {
    "ExecuteTime": {
     "end_time": "2020-02-27T20:47:22.849443Z",
     "start_time": "2020-02-27T20:47:03.933802Z"
    },
    "id": "2k3dxnYdfOGE"
   },
   "outputs": [],
   "source": [
    "pca_model_z = decomposition.PCA(n_components=75).fit(train_data_z)\n",
    "pca_model_ct = decomposition.PCA(n_components=75).fit(train_data_ct)\n",
    "# from pca documentation, \"the input data is centered but not scaled for each feature before applying the SVD\""
   ]
  },
  {
   "cell_type": "code",
   "execution_count": 13,
   "metadata": {
    "ExecuteTime": {
     "end_time": "2020-02-27T20:47:25.521344Z",
     "start_time": "2020-02-27T20:47:23.812540Z"
    },
    "id": "JbM1FmsifOGG"
   },
   "outputs": [],
   "source": [
    "train_transformed_z = pca_model_z.transform(train_data_z)\n",
    "test_transformed_z = pca_model_z.transform(test_data_z)\n",
    "train_transformed_ct = pca_model_ct.transform(train_data_ct)\n",
    "test_transformed_ct = pca_model_ct.transform(test_data_ct)"
   ]
  },
  {
   "cell_type": "markdown",
   "metadata": {
    "id": "LiAW47OnfOGG"
   },
   "source": [
    "## HCP Fit Linear Regression Model "
   ]
  },
  {
   "cell_type": "code",
   "execution_count": 14,
   "metadata": {
    "ExecuteTime": {
     "end_time": "2020-02-28T21:02:52.201826Z",
     "start_time": "2020-02-28T21:02:52.178135Z"
    },
    "id": "CKVCpJO6fOGG",
    "tags": []
   },
   "outputs": [],
   "source": [
    "# fast OLS using matrix math\n",
    "# we will check that this matches sklearn results later\n",
    "\n",
    "# fit ols model on dimension reduced train data\n",
    "train_features_z = np.hstack([np.ones((train_transformed_z.shape[0], 1)), \n",
    "                            train_transformed_z])\n",
    "train_features_inv_z = linalg.pinv2(train_features_z)\n",
    "train_betas_z = np.dot(train_features_inv_z, train_phen)\n",
    "train_pred_phen_z = np.dot(train_features_z, train_betas_z)\n",
    "\n",
    "# fit ols model on dimension reduced test data\n",
    "test_features_z = np.hstack([np.ones((test_transformed_z.shape[0], 1)), \n",
    "                           test_transformed_z])\n",
    "test_pred_phen_z = np.dot(test_features_z, train_betas_z)"
   ]
  },
  {
   "cell_type": "code",
   "execution_count": 15,
   "metadata": {
    "ExecuteTime": {
     "end_time": "2020-02-28T21:02:52.201826Z",
     "start_time": "2020-02-28T21:02:52.178135Z"
    },
    "id": "yVqYV-nJfOGH",
    "tags": []
   },
   "outputs": [],
   "source": [
    "# fast OLS using matrix math\n",
    "# we will check that this matches sklearn results later\n",
    "\n",
    "# fit ols model on dimension reduced train data\n",
    "train_features_ct = np.hstack([np.ones((train_transformed_ct.shape[0], 1)), \n",
    "                            train_transformed_ct])\n",
    "train_features_inv_ct = linalg.pinv2(train_features_ct)\n",
    "train_betas_ct = np.dot(train_features_inv_ct, train_phen)\n",
    "train_pred_phen_ct = np.dot(train_features_ct, train_betas_ct)\n",
    "\n",
    "# fit ols model on dimension reduced test data\n",
    "test_features_ct = np.hstack([np.ones((test_transformed_ct.shape[0], 1)), \n",
    "                           test_transformed_ct])\n",
    "test_pred_phen_ct = np.dot(test_features_ct, train_betas_ct)"
   ]
  },
  {
   "cell_type": "code",
   "execution_count": 17,
   "metadata": {
    "ExecuteTime": {
     "end_time": "2020-02-28T21:02:52.511013Z",
     "start_time": "2020-02-28T21:02:52.496799Z"
    },
    "colab": {
     "base_uri": "https://localhost:8080/"
    },
    "id": "tA9TIJo5fOGH",
    "outputId": "b68c17f4-2f44-4562-fa9a-94dc4d9c2359",
    "tags": []
   },
   "outputs": [],
   "source": [
    "# OLS using sklearn\n",
    "lr_model_z = linear_model.LinearRegression(fit_intercept=True)\n",
    "lr_model_z.fit(train_transformed_z, train_phen)\n",
    "train_pred_phen_lr_model_z = lr_model_z.predict(train_transformed_z)\n",
    "test_pred_phen_lr_model_z = lr_model_z.predict(test_transformed_z)"
   ]
  },
  {
   "cell_type": "code",
   "execution_count": 18,
   "metadata": {
    "ExecuteTime": {
     "end_time": "2020-02-28T21:02:52.511013Z",
     "start_time": "2020-02-28T21:02:52.496799Z"
    },
    "colab": {
     "base_uri": "https://localhost:8080/"
    },
    "id": "d-y9k7dEfOGH",
    "outputId": "58fcb4ac-fe2a-40a5-bfa4-80701c3de6c3",
    "tags": []
   },
   "outputs": [],
   "source": [
    "# OLS using sklearn\n",
    "lr_model_ct = linear_model.LinearRegression(fit_intercept=True)\n",
    "lr_model_ct.fit(train_transformed_ct, train_phen)\n",
    "train_pred_phen_lr_model_ct = lr_model_ct.predict(train_transformed_ct)\n",
    "test_pred_phen_lr_model_ct = lr_model_ct.predict(test_transformed_ct)"
   ]
  },
  {
   "cell_type": "code",
   "execution_count": 19,
   "metadata": {
    "ExecuteTime": {
     "end_time": "2020-02-28T21:02:53.178960Z",
     "start_time": "2020-02-28T21:02:53.170282Z"
    },
    "colab": {
     "base_uri": "https://localhost:8080/"
    },
    "id": "nRQqIqjHfOGH",
    "outputId": "ed0cfba5-ffdc-4dde-b163-3a4d2262dad4"
   },
   "outputs": [
    {
     "name": "stdout",
     "output_type": "stream",
     "text": [
      "Passed\n"
     ]
    }
   ],
   "source": [
    "# ensure matrix math predictions and sklearn predictions are accurate to 5 decimals\n",
    "assert np.allclose(np.round(train_pred_phen_z - train_pred_phen_lr_model_z, 5), 0), 'Failed'\n",
    "assert np.allclose(np.round(test_pred_phen_z - test_pred_phen_lr_model_z, 5), 0), 'Failed'\n",
    "print('Passed')"
   ]
  },
  {
   "cell_type": "code",
   "execution_count": 20,
   "metadata": {
    "ExecuteTime": {
     "end_time": "2020-02-28T21:02:53.178960Z",
     "start_time": "2020-02-28T21:02:53.170282Z"
    },
    "colab": {
     "base_uri": "https://localhost:8080/"
    },
    "id": "ANuBiYL-fOGH",
    "outputId": "b9451bda-dd26-461e-dca9-5984b31406ba"
   },
   "outputs": [
    {
     "name": "stdout",
     "output_type": "stream",
     "text": [
      "Passed\n"
     ]
    }
   ],
   "source": [
    "# ensure matrix math predictions and sklearn predictions are accurate to 5 decimals\n",
    "assert np.allclose(np.round(train_pred_phen_ct - train_pred_phen_lr_model_ct, 5), 0), 'Failed'\n",
    "assert np.allclose(np.round(test_pred_phen_ct - test_pred_phen_lr_model_ct, 5), 0), 'Failed'\n",
    "print('Passed')"
   ]
  },
  {
   "cell_type": "markdown",
   "metadata": {
    "id": "LMXlfiq0fOGH"
   },
   "source": [
    "## HCP Accuracy of Predictions"
   ]
  },
  {
   "cell_type": "code",
   "execution_count": 21,
   "metadata": {
    "ExecuteTime": {
     "end_time": "2020-02-28T21:03:07.671439Z",
     "start_time": "2020-02-28T21:03:07.658887Z"
    },
    "colab": {
     "base_uri": "https://localhost:8080/"
    },
    "id": "Xryb7c9ofOGI",
    "outputId": "5d1b6acc-8314-47ac-e641-55fd8c0fa9b9"
   },
   "outputs": [
    {
     "name": "stdout",
     "output_type": "stream",
     "text": [
      "Deviation model Train R^2: 0.255\n",
      "Deviation model Test R^2: 0.032\n",
      "Deviation model Train MAE: 0.581\n",
      "Deviation model Test MAE: 0.686\n",
      "Deviation model Train MSE: 0.532\n",
      "Deviation model Test MSE: 0.741\n"
     ]
    }
   ],
   "source": [
    "train_r2_z = metrics.r2_score(train_phen, train_pred_phen_lr_model_z)\n",
    "test_r2_z = metrics.r2_score(test_phen, test_pred_phen_lr_model_z)\n",
    "train_mae_z = metrics.mean_absolute_error(train_phen, train_pred_phen_lr_model_z)\n",
    "test_mae_z = metrics.mean_absolute_error(test_phen, test_pred_phen_lr_model_z)\n",
    "train_mse_z = metrics.mean_squared_error(train_phen, train_pred_phen_lr_model_z)\n",
    "test_mse_z = metrics.mean_squared_error(test_phen, test_pred_phen_lr_model_z)\n",
    "print(f'Deviation model Train R^2: {train_r2_z:.3f}')\n",
    "print(f'Deviation model Test R^2: {test_r2_z:.3f}')\n",
    "print(f'Deviation model Train MAE: {train_mae_z:.3f}')\n",
    "print(f'Deviation model Test MAE: {test_mae_z:.3f}')\n",
    "print(f'Deviation model Train MSE: {train_mse_z:.3f}')\n",
    "print(f'Deviation model Test MSE: {test_mse_z:.3f}')"
   ]
  },
  {
   "cell_type": "code",
   "execution_count": 22,
   "metadata": {
    "ExecuteTime": {
     "end_time": "2020-02-28T21:03:07.671439Z",
     "start_time": "2020-02-28T21:03:07.658887Z"
    },
    "colab": {
     "base_uri": "https://localhost:8080/"
    },
    "id": "ojhtmc24fOGI",
    "outputId": "7a839098-df80-4512-8df2-30d3ddaf2b2f"
   },
   "outputs": [
    {
     "name": "stdout",
     "output_type": "stream",
     "text": [
      "Cortical thickness model Train R^2: 0.185\n",
      "Cortical thickness model Test R^2: -0.085\n",
      "Cortical thickness model Train MAE: 0.611\n",
      "Cortical thickness model Test MAE: 0.724\n",
      "Cortical thickness model Train MSE: 0.582\n",
      "Cortical thickness model Test MSE: 0.830\n"
     ]
    }
   ],
   "source": [
    "train_r2_ct = metrics.r2_score(train_phen, train_pred_phen_lr_model_ct)\n",
    "test_r2_ct = metrics.r2_score(test_phen, test_pred_phen_lr_model_ct)\n",
    "train_mae_ct = metrics.mean_absolute_error(train_phen, train_pred_phen_lr_model_ct)\n",
    "test_mae_ct = metrics.mean_absolute_error(test_phen, test_pred_phen_lr_model_ct)\n",
    "train_mse_ct = metrics.mean_squared_error(train_phen, train_pred_phen_lr_model_ct)\n",
    "test_mse_ct = metrics.mean_squared_error(test_phen, test_pred_phen_lr_model_ct)\n",
    "print(f'Cortical thickness model Train R^2: {train_r2_ct:.3f}')\n",
    "print(f'Cortical thickness model Test R^2: {test_r2_ct:.3f}')\n",
    "print(f'Cortical thickness model Train MAE: {train_mae_ct:.3f}')\n",
    "print(f'Cortical thickness model Test MAE: {test_mae_ct:.3f}')\n",
    "print(f'Cortical thickness model Train MSE: {train_mse_ct:.3f}')\n",
    "print(f'Cortical thickness model Test MSE: {test_mse_ct:.3f}')"
   ]
  },
  {
   "cell_type": "code",
   "execution_count": 23,
   "metadata": {},
   "outputs": [],
   "source": [
    "diff_test_r = test_r2_z - test_r2_ct\n",
    "diff_test_mae = test_mae_ct - test_mae_z\n",
    "diff_test_mse = test_mse_ct - test_mse_z"
   ]
  },
  {
   "cell_type": "code",
   "execution_count": 63,
   "metadata": {},
   "outputs": [
    {
     "name": "stdout",
     "output_type": "stream",
     "text": [
      "Cortical thickness - Deviation Test R^2: 0.116\n",
      " Cortical thickness - Deviation Test MAE: 0.037\n",
      "Cortical thickness - Deviation Test MSE: 0.049\n"
     ]
    }
   ],
   "source": [
    "print(f'Cortical thickness - Deviation Test R^2: {diff_test_r:.3f}')\n",
    "print(f' Cortical thickness - Deviation Test MAE: {diff_test_mae:.3f}')\n",
    "print(f'Cortical thickness - Deviation Test MSE: {diff_test_mse:.3f}')"
   ]
  },
  {
   "cell_type": "markdown",
   "metadata": {
    "id": "8hdbIdJcfOGJ"
   },
   "source": [
    "# Connectome Predictive Modelling "
   ]
  },
  {
   "cell_type": "code",
   "execution_count": 25,
   "metadata": {
    "ExecuteTime": {
     "end_time": "2020-02-27T21:24:31.288665Z",
     "start_time": "2020-02-27T21:23:55.467812Z"
    },
    "id": "26jLsR4IfOGJ"
   },
   "outputs": [],
   "source": [
    "# correlation train_brain with train_phenotype\n",
    "train_z_pheno_corr_p = [stats.pearsonr(train_data_z[:, i], train_phen) for i in range(train_data_z.shape[1])]  # train_pheno_corr_p: (259200, )\n",
    "# there are some nan correlations if brain data is poorly cropped (ie: some columns are always 0)"
   ]
  },
  {
   "cell_type": "code",
   "execution_count": 26,
   "metadata": {
    "ExecuteTime": {
     "end_time": "2020-02-27T21:24:31.288665Z",
     "start_time": "2020-02-27T21:23:55.467812Z"
    },
    "id": "GV4-dfC0fOGJ"
   },
   "outputs": [],
   "source": [
    "# correlation train_brain with train_phenotype\n",
    "train_ct_pheno_corr_p = [stats.pearsonr(train_data_ct[:, i], train_phen) for i in range(train_data_ct.shape[1])]  # train_pheno_corr_p: (259200, )\n",
    "# there are some nan correlations if brain data is poorly cropped (ie: some columns are always 0)"
   ]
  },
  {
   "cell_type": "code",
   "execution_count": 27,
   "metadata": {
    "ExecuteTime": {
     "end_time": "2020-02-27T21:24:34.704689Z",
     "start_time": "2020-02-27T21:24:34.501675Z"
    },
    "id": "kDZuM_2cfOGJ"
   },
   "outputs": [],
   "source": [
    "# split into positive and negative correlations \n",
    "# and keep edges with p values below threshold\n",
    "pval_threshold = 0.01\n",
    "\n",
    "train_z_corrs = np.array([x[0] for x in train_z_pheno_corr_p])\n",
    "train_z_pvals = np.array([x[1] for x in train_z_pheno_corr_p])\n",
    "\n",
    "keep_edges_pos_z = (train_z_corrs > 0) & (train_z_pvals < pval_threshold)\n",
    "keep_edges_neg_z = (train_z_corrs < 0) & (train_z_pvals < pval_threshold)\n",
    "\n",
    "train_ct_corrs = np.array([x[0] for x in train_ct_pheno_corr_p])\n",
    "train_ct_pvals = np.array([x[1] for x in train_ct_pheno_corr_p])\n",
    "\n",
    "keep_edges_pos_ct = (train_ct_corrs > 0) & (train_ct_pvals < pval_threshold)\n",
    "keep_edges_neg_ct = (train_ct_corrs < 0) & (train_ct_pvals < pval_threshold)"
   ]
  },
  {
   "cell_type": "code",
   "execution_count": 28,
   "metadata": {
    "ExecuteTime": {
     "end_time": "2020-02-27T21:26:12.022732Z",
     "start_time": "2020-02-27T21:26:12.013945Z"
    },
    "colab": {
     "base_uri": "https://localhost:8080/"
    },
    "id": "WGLTjnYCfOGJ",
    "outputId": "91bf75c6-d17c-4c76-e7fa-65509c069b2b"
   },
   "outputs": [
    {
     "name": "stdout",
     "output_type": "stream",
     "text": [
      "number of positive Z features kept = 37\n",
      "number of negative Z features kept = 2\n",
      "number of positive CT features kept = 15\n",
      "number of negative CT features kept = 1\n"
     ]
    }
   ],
   "source": [
    "print(f'number of positive Z features kept = {np.sum(keep_edges_pos_z)}')\n",
    "print(f'number of negative Z features kept = {np.sum(keep_edges_neg_z)}')\n",
    "print(f'number of positive CT features kept = {np.sum(keep_edges_pos_ct)}')\n",
    "print(f'number of negative CT features kept = {np.sum(keep_edges_neg_ct)}')"
   ]
  },
  {
   "cell_type": "code",
   "execution_count": 29,
   "metadata": {
    "ExecuteTime": {
     "end_time": "2020-02-27T21:29:03.616394Z",
     "start_time": "2020-02-27T21:29:03.571004Z"
    },
    "id": "5ayyKwxkfOGJ"
   },
   "outputs": [],
   "source": [
    "train_pos_edges_sum_z = train_data_z[:, keep_edges_pos_z].sum(1)\n",
    "train_neg_edges_sum_z = train_data_z[:, keep_edges_neg_z].sum(1)"
   ]
  },
  {
   "cell_type": "code",
   "execution_count": 30,
   "metadata": {
    "ExecuteTime": {
     "end_time": "2020-02-27T21:29:03.616394Z",
     "start_time": "2020-02-27T21:29:03.571004Z"
    },
    "id": "ch4OpB24fOGK"
   },
   "outputs": [],
   "source": [
    "train_pos_edges_sum_ct = train_data_ct[:, keep_edges_pos_ct].sum(1)\n",
    "train_neg_edges_sum_ct = train_data_ct[:, keep_edges_neg_ct].sum(1)"
   ]
  },
  {
   "cell_type": "code",
   "execution_count": 32,
   "metadata": {
    "ExecuteTime": {
     "end_time": "2020-02-27T21:30:46.258668Z",
     "start_time": "2020-02-27T21:30:46.190775Z"
    },
    "colab": {
     "base_uri": "https://localhost:8080/"
    },
    "id": "dv_ttet1fOGK",
    "outputId": "335f126c-6339-4b20-b21d-9df97f7cd582",
    "tags": []
   },
   "outputs": [],
   "source": [
    "fit_pos_z = linear_model.LinearRegression(fit_intercept=True).fit(train_pos_edges_sum_z.reshape(-1, 1), train_phen)\n",
    "fit_neg_z = linear_model.LinearRegression(fit_intercept=True).fit(train_neg_edges_sum_z.reshape(-1, 1), train_phen)"
   ]
  },
  {
   "cell_type": "code",
   "execution_count": 33,
   "metadata": {
    "ExecuteTime": {
     "end_time": "2020-02-27T21:30:46.258668Z",
     "start_time": "2020-02-27T21:30:46.190775Z"
    },
    "colab": {
     "base_uri": "https://localhost:8080/"
    },
    "id": "aBLov0GOfOGK",
    "outputId": "40cebd79-9524-4f81-9b26-9106d0156c92",
    "tags": []
   },
   "outputs": [],
   "source": [
    "fit_pos_ct = linear_model.LinearRegression(fit_intercept=True).fit(train_pos_edges_sum_ct.reshape(-1, 1), train_phen)\n",
    "fit_neg_ct = linear_model.LinearRegression(fit_intercept=True).fit(train_neg_edges_sum_ct.reshape(-1, 1), train_phen)"
   ]
  },
  {
   "cell_type": "code",
   "execution_count": 34,
   "metadata": {
    "ExecuteTime": {
     "end_time": "2020-02-27T21:33:41.567137Z",
     "start_time": "2020-02-27T21:33:41.557150Z"
    },
    "colab": {
     "base_uri": "https://localhost:8080/"
    },
    "id": "dqhyxiuAfOGK",
    "outputId": "83e8f7b7-e1aa-4b3b-b666-5735c7358b10"
   },
   "outputs": [
    {
     "name": "stdout",
     "output_type": "stream",
     "text": [
      "Training Error (Positive Z Features Model) = 0.631\n",
      "Training Error (Negative Z Features Model) = 0.666\n",
      "Training Error (Positive CT Features Model) = 0.662\n",
      "Training Error (Negative CT Features Model) = 0.665\n"
     ]
    }
   ],
   "source": [
    "pos_error_z = metrics.mean_absolute_error(train_phen, fit_pos_z.predict(train_pos_edges_sum_z.reshape(-1, 1)))\n",
    "neg_error_z = metrics.mean_absolute_error(train_phen, fit_neg_z.predict(train_neg_edges_sum_z.reshape(-1, 1)))\n",
    "pos_error_ct = metrics.mean_absolute_error(train_phen, fit_pos_ct.predict(train_pos_edges_sum_ct.reshape(-1, 1)))\n",
    "neg_error_ct = metrics.mean_absolute_error(train_phen, fit_neg_ct.predict(train_neg_edges_sum_ct.reshape(-1, 1)))\n",
    "\n",
    "print(f'Training Error (Positive Z Features Model) = {pos_error_z:.3f}')\n",
    "print(f'Training Error (Negative Z Features Model) = {neg_error_z:.3f}')\n",
    "print(f'Training Error (Positive CT Features Model) = {pos_error_ct:.3f}')\n",
    "print(f'Training Error (Negative CT Features Model) = {neg_error_ct:.3f}')"
   ]
  },
  {
   "cell_type": "code",
   "execution_count": 35,
   "metadata": {
    "ExecuteTime": {
     "end_time": "2020-02-27T21:34:05.962843Z",
     "start_time": "2020-02-27T21:34:05.952234Z"
    },
    "colab": {
     "base_uri": "https://localhost:8080/"
    },
    "id": "XyKvY5XFfOGK",
    "outputId": "24836d2d-12d2-48c9-da5d-654421056794",
    "tags": []
   },
   "outputs": [],
   "source": [
    "# combine positive/negative edges in one linear regression model\n",
    "fit_pos_neg_z = linear_model.LinearRegression(fit_intercept=True).fit(np.stack((train_pos_edges_sum_z, train_neg_edges_sum_z)).T, train_phen)"
   ]
  },
  {
   "cell_type": "code",
   "execution_count": 36,
   "metadata": {
    "ExecuteTime": {
     "end_time": "2020-02-27T21:34:05.962843Z",
     "start_time": "2020-02-27T21:34:05.952234Z"
    },
    "colab": {
     "base_uri": "https://localhost:8080/"
    },
    "id": "dz93mEf4fOGK",
    "outputId": "387a58d5-9bf7-4cc5-cdfa-47b17b6f5ada",
    "tags": []
   },
   "outputs": [],
   "source": [
    "# combine positive/negative edges in one linear regression model\n",
    "fit_pos_neg_ct = linear_model.LinearRegression(fit_intercept=True).fit(np.stack((train_pos_edges_sum_ct, train_neg_edges_sum_ct)).T, train_phen)"
   ]
  },
  {
   "cell_type": "code",
   "execution_count": 37,
   "metadata": {
    "ExecuteTime": {
     "end_time": "2020-02-27T21:34:40.010030Z",
     "start_time": "2020-02-27T21:34:39.990469Z"
    },
    "colab": {
     "base_uri": "https://localhost:8080/"
    },
    "id": "fNGsUP4EfOGK",
    "outputId": "f88ab2aa-0880-4065-c4f3-57ffe9692063"
   },
   "outputs": [
    {
     "name": "stdout",
     "output_type": "stream",
     "text": [
      "Training Error (Positive/Negative Z Features Model) = 0.620\n",
      "Training Error (Positive/Negative CT Features Model) = 0.642\n"
     ]
    }
   ],
   "source": [
    "pos_neg_error_z = metrics.mean_absolute_error(train_phen, fit_pos_neg_z.predict(np.stack((train_pos_edges_sum_z, train_neg_edges_sum_z)).T))\n",
    "pos_neg_error_ct = metrics.mean_absolute_error(train_phen, fit_pos_neg_ct.predict(np.stack((train_pos_edges_sum_ct, train_neg_edges_sum_ct)).T))\n",
    "\n",
    "print(f'Training Error (Positive/Negative Z Features Model) = {pos_neg_error_z:.3f}')\n",
    "print(f'Training Error (Positive/Negative CT Features Model) = {pos_neg_error_ct:.3f}')"
   ]
  },
  {
   "cell_type": "code",
   "execution_count": 38,
   "metadata": {
    "ExecuteTime": {
     "end_time": "2020-02-27T21:36:11.826718Z",
     "start_time": "2020-02-27T21:36:11.807247Z"
    },
    "colab": {
     "base_uri": "https://localhost:8080/"
    },
    "id": "J3nR0xLhfOGK",
    "outputId": "d2181842-5561-4edb-d3c4-e24caab6ada2"
   },
   "outputs": [
    {
     "name": "stdout",
     "output_type": "stream",
     "text": [
      "Testing Error (Positive Z Features Model) = 0.737\n",
      "Testing Error (Negative Z Features Model) = 0.752\n",
      "Testing Error (Positive/Negative Z Features Model) = 0.714\n",
      "Testing Error (Positive CT Features Model) = 0.798\n",
      "Testing Error (Negative CT Features Model) = 0.753\n",
      "Testing Error (Positive/Negative CT Features Model) = 0.777\n"
     ]
    }
   ],
   "source": [
    "# evaluate out of sample performance \n",
    "test_pos_edges_sum_z = test_data_z[:, keep_edges_pos_z].sum(1)\n",
    "test_neg_edges_sum_z = test_data_z[:, keep_edges_neg_z].sum(1)\n",
    "\n",
    "pos_test_error_z = metrics.mean_squared_error(test_phen, fit_pos_z.predict(test_pos_edges_sum_z.reshape(-1, 1)))\n",
    "neg_test_error_z = metrics.mean_squared_error(test_phen, fit_neg_z.predict(test_neg_edges_sum_z.reshape(-1, 1)))\n",
    "pos_neg_test_error_z = metrics.mean_squared_error(test_phen, fit_pos_neg_z.predict(np.stack((test_pos_edges_sum_z, test_neg_edges_sum_z)).T))\n",
    "\n",
    "test_pos_edges_sum_ct = test_data_ct[:, keep_edges_pos_ct].sum(1)\n",
    "test_neg_edges_sum_ct = test_data_ct[:, keep_edges_neg_ct].sum(1)\n",
    "\n",
    "pos_test_error_ct = metrics.mean_squared_error(test_phen, fit_pos_ct.predict(test_pos_edges_sum_ct.reshape(-1, 1)))\n",
    "neg_test_error_ct = metrics.mean_squared_error(test_phen, fit_neg_ct.predict(test_neg_edges_sum_ct.reshape(-1, 1)))\n",
    "pos_neg_test_error_ct = metrics.mean_squared_error(test_phen, fit_pos_neg_ct.predict(np.stack((test_pos_edges_sum_ct, test_neg_edges_sum_ct)).T))\n",
    "\n",
    "print(f'Testing Error (Positive Z Features Model) = {pos_test_error_z:.3f}')\n",
    "print(f'Testing Error (Negative Z Features Model) = {neg_test_error_z:.3f}')\n",
    "print(f'Testing Error (Positive/Negative Z Features Model) = {pos_neg_test_error_z:.3f}')\n",
    "print(f'Testing Error (Positive CT Features Model) = {pos_test_error_ct:.3f}')\n",
    "print(f'Testing Error (Negative CT Features Model) = {neg_test_error_ct:.3f}')\n",
    "print(f'Testing Error (Positive/Negative CT Features Model) = {pos_neg_test_error_ct:.3f}')"
   ]
  },
  {
   "cell_type": "code",
   "execution_count": 39,
   "metadata": {},
   "outputs": [],
   "source": [
    "diff_test_mse = pos_neg_test_error_ct - pos_neg_test_error_z"
   ]
  },
  {
   "cell_type": "code",
   "execution_count": 64,
   "metadata": {},
   "outputs": [
    {
     "name": "stdout",
     "output_type": "stream",
     "text": [
      "Cortical thickness - Deviation Test MSE: 0.049\n"
     ]
    }
   ],
   "source": [
    "print(f'Cortical thickness - Deviation Test MSE: {diff_test_mse:.3f}')"
   ]
  },
  {
   "cell_type": "markdown",
   "metadata": {
    "id": "W-cmv-_nfOGL"
   },
   "source": [
    "# Lasso (Linear Regression + L1 Regularization)"
   ]
  },
  {
   "cell_type": "code",
   "execution_count": null,
   "metadata": {
    "ExecuteTime": {
     "end_time": "2020-02-28T18:57:14.623765Z",
     "start_time": "2020-02-28T18:52:40.754297Z"
    },
    "colab": {
     "base_uri": "https://localhost:8080/"
    },
    "id": "xNl68aK5fOGL",
    "outputId": "e5f2384c-5e89-4cdd-c6e8-10613c3d4891",
    "tags": []
   },
   "outputs": [],
   "source": [
    "# LassoCV uses coordinate descent to select hyperparameter alpha \n",
    "alpha_grid = np.array([10**a for a in np.arange(-3, 3, 0.25)])\n",
    "lassoCV_model_z = linear_model.LassoCV(cv=5, n_alphas=len(alpha_grid), alphas=alpha_grid, fit_intercept=True, random_state=42, verbose=True, n_jobs=5).fit(train_data_z, train_phen)"
   ]
  },
  {
   "cell_type": "code",
   "execution_count": 124,
   "metadata": {
    "ExecuteTime": {
     "end_time": "2020-02-28T18:57:14.623765Z",
     "start_time": "2020-02-28T18:52:40.754297Z"
    },
    "colab": {
     "base_uri": "https://localhost:8080/"
    },
    "id": "2TVW7TaEfOGL",
    "outputId": "8805b921-614d-4fd9-f21d-b9fd5650d6df",
    "tags": []
   },
   "outputs": [],
   "source": [
    "# LassoCV uses coordinate descent to select hyperparameter alpha \n",
    "alpha_grid = np.array([10**a for a in np.arange(-3, 3, 0.25)])\n",
    "lassoCV_model_ct = linear_model.LassoCV(cv=5, n_alphas=len(alpha_grid), alphas=alpha_grid, fit_intercept=True, random_state=42, verbose=True, n_jobs=5).fit(train_data_ct, train_phen)"
   ]
  },
  {
   "cell_type": "code",
   "execution_count": 43,
   "metadata": {
    "ExecuteTime": {
     "end_time": "2020-02-28T19:03:05.522140Z",
     "start_time": "2020-02-28T19:03:00.140879Z"
    },
    "colab": {
     "base_uri": "https://localhost:8080/"
    },
    "id": "tBKRD_JqfOGM",
    "outputId": "6e2c2695-180a-48ba-b414-b37853b6226b",
    "tags": []
   },
   "outputs": [],
   "source": [
    "# based on cv results above, set alpha=100\n",
    "lasso_model_z = linear_model.Lasso(alpha=lassoCV_model_z.alpha_, fit_intercept=True).fit(train_data_z, train_phen)"
   ]
  },
  {
   "cell_type": "code",
   "execution_count": 44,
   "metadata": {
    "ExecuteTime": {
     "end_time": "2020-02-28T19:03:05.522140Z",
     "start_time": "2020-02-28T19:03:00.140879Z"
    },
    "colab": {
     "base_uri": "https://localhost:8080/"
    },
    "id": "rjfrAw9bfOGM",
    "outputId": "3c4637ed-a658-42c6-d246-de0b156cbeab",
    "tags": []
   },
   "outputs": [],
   "source": [
    "# based on cv results above, set alpha=100\n",
    "lasso_model_ct = linear_model.Lasso(alpha=lassoCV_model_ct.alpha_, fit_intercept=True).fit(train_data_ct, train_phen)"
   ]
  },
  {
   "cell_type": "code",
   "execution_count": 45,
   "metadata": {
    "ExecuteTime": {
     "end_time": "2020-02-28T19:26:16.703261Z",
     "start_time": "2020-02-28T19:26:16.247169Z"
    },
    "colab": {
     "base_uri": "https://localhost:8080/"
    },
    "id": "o0fS2dRafOGM",
    "outputId": "a191e1f9-8338-41df-af2c-8cc68c99adeb"
   },
   "outputs": [
    {
     "name": "stdout",
     "output_type": "stream",
     "text": [
      "Train MSE Z model: 0.623\n",
      "Test MSE Z model: 0.707\n",
      "Train MSE CT model: 0.673\n",
      "Test MSE CT model: 0.759\n"
     ]
    }
   ],
   "source": [
    "train_preds_lasso_model_z = lasso_model_z.predict(train_data_z)\n",
    "test_preds_lasso_model_z = lasso_model_z.predict(test_data_z)\n",
    "\n",
    "train_mse_z = metrics.mean_squared_error(train_phen, train_preds_lasso_model_z)\n",
    "test_mse_z = metrics.mean_squared_error(test_phen, test_preds_lasso_model_z)\n",
    "\n",
    "train_preds_lasso_model_ct = lasso_model_ct.predict(train_data_ct)\n",
    "test_preds_lasso_model_ct = lasso_model_ct.predict(test_data_ct)\n",
    "\n",
    "train_mse_ct = metrics.mean_squared_error(train_phen, train_preds_lasso_model_ct)\n",
    "test_mse_ct = metrics.mean_squared_error(test_phen, test_preds_lasso_model_ct)\n",
    "\n",
    "print(f'Train MSE Z model: {train_mse_z:.3f}')\n",
    "print(f'Test MSE Z model: {test_mse_z:.3f}')\n",
    "print(f'Train MSE CT model: {train_mse_ct:.3f}')\n",
    "print(f'Test MSE CT model: {test_mse_ct:.3f}')"
   ]
  },
  {
   "cell_type": "code",
   "execution_count": 46,
   "metadata": {},
   "outputs": [],
   "source": [
    "diff_test_mse = test_mse_ct - test_mse_z"
   ]
  },
  {
   "cell_type": "code",
   "execution_count": 47,
   "metadata": {},
   "outputs": [
    {
     "name": "stdout",
     "output_type": "stream",
     "text": [
      "Deviation model - Cortical thickness model Test MSE: 0.051\n"
     ]
    }
   ],
   "source": [
    "print(f'Deviation model - Cortical thickness model Test MSE: {diff_test_mse:.3f}')"
   ]
  },
  {
   "cell_type": "markdown",
   "metadata": {
    "id": "Iikti1JxfOGM"
   },
   "source": [
    "# Ridge (Linear Regression + L2 Regularization)"
   ]
  },
  {
   "cell_type": "code",
   "execution_count": 48,
   "metadata": {
    "ExecuteTime": {
     "end_time": "2020-02-28T19:24:20.576475Z",
     "start_time": "2020-02-28T19:23:29.159220Z"
    },
    "id": "ws4OPxINfOGM"
   },
   "outputs": [],
   "source": [
    "# RidgeCV uses generalized cross validation to select hyperparameter alpha \n",
    "with warnings.catch_warnings():\n",
    "    # ignore matrix decomposition errors\n",
    "    warnings.simplefilter(\"ignore\")\n",
    "    ridgeCV_model_z = linear_model.RidgeCV(alphas=(0.1, 1.0, 10.0), fit_intercept=True, cv=5).fit(train_data_z, train_phen)"
   ]
  },
  {
   "cell_type": "code",
   "execution_count": 49,
   "metadata": {
    "ExecuteTime": {
     "end_time": "2020-02-28T19:24:20.576475Z",
     "start_time": "2020-02-28T19:23:29.159220Z"
    },
    "id": "cm6DYc5QfOGM"
   },
   "outputs": [],
   "source": [
    "# RidgeCV uses generalized cross validation to select hyperparameter alpha \n",
    "with warnings.catch_warnings():\n",
    "    # ignore matrix decomposition errors\n",
    "    warnings.simplefilter(\"ignore\")\n",
    "    ridgeCV_model_ct = linear_model.RidgeCV(alphas=(0.1, 1.0, 10.0), fit_intercept=True, cv=5).fit(train_data_ct, train_phen)"
   ]
  },
  {
   "cell_type": "code",
   "execution_count": 50,
   "metadata": {
    "ExecuteTime": {
     "end_time": "2020-02-28T20:04:28.613450Z",
     "start_time": "2020-02-28T20:04:28.599216Z"
    },
    "colab": {
     "base_uri": "https://localhost:8080/"
    },
    "id": "SrDulVZAfOGM",
    "outputId": "a746d4fa-6679-4339-9c64-6cbe7c7e82f9"
   },
   "outputs": [
    {
     "name": "stdout",
     "output_type": "stream",
     "text": [
      "CV Selected Alpha Z model = 10.000\n"
     ]
    }
   ],
   "source": [
    "ridge_alpha_z = ridgeCV_model_z.alpha_\n",
    "print(f'CV Selected Alpha Z model = {ridge_alpha_z:.3f}')"
   ]
  },
  {
   "cell_type": "code",
   "execution_count": 51,
   "metadata": {
    "ExecuteTime": {
     "end_time": "2020-02-28T20:04:28.613450Z",
     "start_time": "2020-02-28T20:04:28.599216Z"
    },
    "colab": {
     "base_uri": "https://localhost:8080/"
    },
    "id": "LqKZuMP7fOGN",
    "outputId": "828e2937-ddb4-4ca6-ebf2-d383a4d0a66a"
   },
   "outputs": [
    {
     "name": "stdout",
     "output_type": "stream",
     "text": [
      "CV Selected Alpha CT model = 10.000\n"
     ]
    }
   ],
   "source": [
    "ridge_alpha_ct = ridgeCV_model_ct.alpha_\n",
    "print(f'CV Selected Alpha CT model = {ridge_alpha_ct:.3f}')"
   ]
  },
  {
   "cell_type": "code",
   "execution_count": 52,
   "metadata": {
    "ExecuteTime": {
     "end_time": "2020-02-28T20:04:35.576044Z",
     "start_time": "2020-02-28T20:04:29.018975Z"
    },
    "colab": {
     "base_uri": "https://localhost:8080/"
    },
    "id": "w1Phgg8wfOGN",
    "outputId": "238bf798-fe73-4af9-93ba-17b49a3eb642",
    "tags": []
   },
   "outputs": [],
   "source": [
    "ridge_model_z = linear_model.Ridge(alpha=ridge_alpha_z, fit_intercept=True).fit(train_data_z, train_phen)"
   ]
  },
  {
   "cell_type": "code",
   "execution_count": 53,
   "metadata": {
    "ExecuteTime": {
     "end_time": "2020-02-28T20:04:35.576044Z",
     "start_time": "2020-02-28T20:04:29.018975Z"
    },
    "colab": {
     "base_uri": "https://localhost:8080/"
    },
    "id": "H_L-RzBkfOGN",
    "outputId": "9b3d6b2b-52d6-4efd-da8e-74bf6e1dd9c6",
    "tags": []
   },
   "outputs": [],
   "source": [
    "ridge_model_ct = linear_model.Ridge(alpha=ridge_alpha_ct, fit_intercept=True).fit(train_data_ct, train_phen)"
   ]
  },
  {
   "cell_type": "code",
   "execution_count": 54,
   "metadata": {
    "ExecuteTime": {
     "end_time": "2020-02-28T20:04:36.305177Z",
     "start_time": "2020-02-28T20:04:35.589009Z"
    },
    "colab": {
     "base_uri": "https://localhost:8080/"
    },
    "id": "URoI2xqzfOGN",
    "outputId": "e84f20fe-ef40-4c97-90dd-4cf14fa72710"
   },
   "outputs": [
    {
     "name": "stdout",
     "output_type": "stream",
     "text": [
      "Train MSE Z model: 0.436\n",
      "Test MSE Z model: 0.870\n",
      "Train MSE CT model: 0.566\n",
      "Test MSE CT model: 0.756\n"
     ]
    }
   ],
   "source": [
    "train_preds_ridge_model_z = ridge_model_z.predict(train_data_z)\n",
    "test_preds_ridge_model_z = ridge_model_z.predict(test_data_z)\n",
    "\n",
    "train_mse_z = metrics.mean_squared_error(train_phen, train_preds_ridge_model_z)\n",
    "test_mse_z = metrics.mean_squared_error(test_phen, test_preds_ridge_model_z)\n",
    "\n",
    "train_preds_ridge_model_ct = ridge_model_ct.predict(train_data_ct)\n",
    "test_preds_ridge_model_ct = ridge_model_ct.predict(test_data_ct)\n",
    "\n",
    "train_mse_ct = metrics.mean_squared_error(train_phen, train_preds_ridge_model_ct)\n",
    "test_mse_ct = metrics.mean_squared_error(test_phen, test_preds_ridge_model_ct)\n",
    "\n",
    "print(f'Train MSE Z model: {train_mse_z:.3f}')\n",
    "print(f'Test MSE Z model: {test_mse_z:.3f}')\n",
    "print(f'Train MSE CT model: {train_mse_ct:.3f}')\n",
    "print(f'Test MSE CT model: {test_mse_ct:.3f}')"
   ]
  },
  {
   "cell_type": "code",
   "execution_count": 55,
   "metadata": {},
   "outputs": [],
   "source": [
    "diff_test_mse = test_mse_ct - test_mse_z"
   ]
  },
  {
   "cell_type": "code",
   "execution_count": 56,
   "metadata": {},
   "outputs": [
    {
     "name": "stdout",
     "output_type": "stream",
     "text": [
      "Deviation model - Cortical thickness model Test MSE: -0.114\n"
     ]
    }
   ],
   "source": [
    "print(f'Deviation model - Cortical thickness model Test MSE: {diff_test_mse:.3f}')"
   ]
  },
  {
   "cell_type": "markdown",
   "metadata": {
    "id": "_G72iEyXfOGN"
   },
   "source": [
    "# Elastic Net (Linear Regression + L1/L2 Regularization)"
   ]
  },
  {
   "cell_type": "code",
   "execution_count": null,
   "metadata": {
    "ExecuteTime": {
     "end_time": "2020-02-28T20:59:20.607271Z",
     "start_time": "2020-02-28T20:25:43.581804Z"
    },
    "colab": {
     "base_uri": "https://localhost:8080/"
    },
    "id": "HM0VpMxdfOGN",
    "outputId": "bfe28365-bfc9-4814-dbcc-3b3362d0d605",
    "tags": []
   },
   "outputs": [],
   "source": [
    "# RidgeCV uses generalized cross validation to select hyperparameter alpha \n",
    "elasticnetCV_model_z = linear_model.ElasticNetCV(l1_ratio=[.1, .5, .7, .9, .95, .99, 1], cv=5, n_alphas=len(alpha_grid), alphas=alpha_grid, random_state=42, verbose=True, n_jobs=5).fit(train_data_z, train_phen)"
   ]
  },
  {
   "cell_type": "code",
   "execution_count": null,
   "metadata": {
    "ExecuteTime": {
     "end_time": "2020-02-28T20:59:20.607271Z",
     "start_time": "2020-02-28T20:25:43.581804Z"
    },
    "colab": {
     "base_uri": "https://localhost:8080/"
    },
    "id": "8Tg5LIf4fOGN",
    "outputId": "21240f40-72c6-4e6f-ae23-6ce818ea5e13",
    "tags": []
   },
   "outputs": [],
   "source": [
    "# RidgeCV uses generalized cross validation to select hyperparameter alpha \n",
    "elasticnetCV_model_ct = linear_model.ElasticNetCV(l1_ratio=[.1, .5, .7, .9, .95, .99, 1], cv=5, n_alphas=len(alpha_grid), alphas=alpha_grid, random_state=42, verbose=True, n_jobs=5).fit(train_data_ct, train_phen)"
   ]
  },
  {
   "cell_type": "code",
   "execution_count": 59,
   "metadata": {
    "ExecuteTime": {
     "end_time": "2020-02-28T20:59:20.620899Z",
     "start_time": "2020-02-28T20:59:20.612966Z"
    },
    "colab": {
     "base_uri": "https://localhost:8080/"
    },
    "id": "de7gHAs-fOGN",
    "outputId": "a5d8e944-51fa-49a3-e09b-f8bbe68bf538"
   },
   "outputs": [
    {
     "name": "stdout",
     "output_type": "stream",
     "text": [
      "CV selected alpha Z model 0.056\n",
      "Elastic net L1 ratio Z model 0.700\n",
      "CV selected alpha CT model 0.032\n",
      "Elastic net L1 ratio CT model 0.100\n"
     ]
    }
   ],
   "source": [
    "print(f'CV selected alpha Z model {elasticnetCV_model_z.alpha_:.3f}')\n",
    "print(f'Elastic net L1 ratio Z model {elasticnetCV_model_z.l1_ratio_:.3f}')\n",
    "print(f'CV selected alpha CT model {elasticnetCV_model_ct.alpha_:.3f}')\n",
    "print(f'Elastic net L1 ratio CT model {elasticnetCV_model_ct.l1_ratio_:.3f}')"
   ]
  },
  {
   "cell_type": "code",
   "execution_count": 60,
   "metadata": {
    "ExecuteTime": {
     "end_time": "2020-02-28T21:02:35.399337Z",
     "start_time": "2020-02-28T21:02:30.121679Z"
    },
    "colab": {
     "base_uri": "https://localhost:8080/"
    },
    "id": "tYFLl0sRfOGO",
    "outputId": "eef14a6a-9d90-4bd1-916d-be363f87b906"
   },
   "outputs": [
    {
     "name": "stdout",
     "output_type": "stream",
     "text": [
      "Train MSE Z model: 0.605\n",
      "Test MSE Z model: 0.697\n",
      "Train MSE CT model: 0.640\n",
      "Test MSE CT model: 0.746\n"
     ]
    }
   ],
   "source": [
    "elasticnet_model_z = linear_model.ElasticNet(alpha=elasticnetCV_model_z.alpha_, l1_ratio=elasticnetCV_model_z.l1_ratio_, fit_intercept=True, random_state=42).fit(train_data_z, train_phen)\n",
    "\n",
    "train_preds_en_model_z = elasticnet_model_z.predict(train_data_z)\n",
    "test_preds_en_model_z = elasticnet_model_z.predict(test_data_z)\n",
    "\n",
    "train_mse_z = metrics.mean_squared_error(train_phen, train_preds_en_model_z)\n",
    "test_mse_z = metrics.mean_squared_error(test_phen, test_preds_en_model_z)\n",
    "\n",
    "elasticnet_model_ct = linear_model.ElasticNet(alpha=elasticnetCV_model_ct.alpha_, l1_ratio=elasticnetCV_model_ct.l1_ratio_, fit_intercept=True, random_state=42).fit(train_data_ct, train_phen)\n",
    "\n",
    "train_preds_en_model_ct = elasticnet_model_ct.predict(train_data_ct)\n",
    "test_preds_en_model_ct = elasticnet_model_ct.predict(test_data_ct)\n",
    "\n",
    "train_mse_ct = metrics.mean_squared_error(train_phen, train_preds_en_model_ct)\n",
    "test_mse_ct = metrics.mean_squared_error(test_phen, test_preds_en_model_ct)\n",
    "\n",
    "print(f'Train MSE Z model: {train_mse_z:.3f}')\n",
    "print(f'Test MSE Z model: {test_mse_z:.3f}')\n",
    "print(f'Train MSE CT model: {train_mse_ct:.3f}')\n",
    "print(f'Test MSE CT model: {test_mse_ct:.3f}')"
   ]
  },
  {
   "cell_type": "code",
   "execution_count": 61,
   "metadata": {},
   "outputs": [],
   "source": [
    "diff_test_mse = test_mse_ct - test_mse_z"
   ]
  },
  {
   "cell_type": "code",
   "execution_count": 62,
   "metadata": {},
   "outputs": [
    {
     "name": "stdout",
     "output_type": "stream",
     "text": [
      "Deviation model - Cortical thickness model Test MSE: 0.049\n"
     ]
    }
   ],
   "source": [
    "print(f'Deviation model - Cortical thickness model Test MSE: {diff_test_mse:.3f}')"
   ]
  },
  {
   "cell_type": "markdown",
   "metadata": {
    "id": "nKlsJF5ffOGD"
   },
   "source": [
    "# ABCD Create Train/Test Splits"
   ]
  },
  {
   "cell_type": "code",
   "execution_count": 65,
   "metadata": {
    "ExecuteTime": {
     "end_time": "2020-02-28T18:06:31.317947Z",
     "start_time": "2020-02-28T18:06:31.286075Z"
    },
    "id": "hiFF4_kSfOGD"
   },
   "outputs": [],
   "source": [
    "# generate train/test splits\n",
    "np.random.seed(42)\n",
    "n_train = int(0.8 * abcd_z.shape[0])\n",
    "\n",
    "train_idxs = np.random.choice(range(abcd_z.shape[0]), size=n_train, replace=False)\n",
    "test_idxs = np.array([x for x in range(abcd_z.shape[0]) if x not in train_idxs])"
   ]
  },
  {
   "cell_type": "code",
   "execution_count": 66,
   "metadata": {
    "ExecuteTime": {
     "end_time": "2020-02-28T19:27:03.079155Z",
     "start_time": "2020-02-28T19:27:02.301318Z"
    },
    "id": "nRetH6v1fOGD"
   },
   "outputs": [],
   "source": [
    "train_data_z = abcd_z[train_idxs, :]\n",
    "test_data_z = abcd_z[test_idxs, :]\n",
    "\n",
    "train_data_ct = abcd_ct[train_idxs, :]\n",
    "test_data_ct = abcd_ct[test_idxs, :]\n",
    "\n",
    "train_phen = abcd_g[train_idxs]\n",
    "test_phen = abcd_g[test_idxs]"
   ]
  },
  {
   "cell_type": "code",
   "execution_count": 67,
   "metadata": {
    "ExecuteTime": {
     "end_time": "2020-02-28T18:06:33.825306Z",
     "start_time": "2020-02-28T18:06:32.401774Z"
    },
    "id": "8BGKcvb5fOGE"
   },
   "outputs": [],
   "source": [
    "# mean center train/test data (using train means)\n",
    "train_mu_centered_z = (train_data_z - train_data_z.mean(axis=0))\n",
    "test_mu_centered_z = (test_data_z - train_data_z.mean(axis=0))\n",
    "\n",
    "train_mu_centered_ct = (train_data_ct - train_data_ct.mean(axis=0))\n",
    "test_mu_centered_ct = (test_data_ct - train_data_ct.mean(axis=0))"
   ]
  },
  {
   "cell_type": "markdown",
   "metadata": {
    "id": "ETQ80vjTfOGE"
   },
   "source": [
    "# ABCD Principal Component Regression (BBS)"
   ]
  },
  {
   "cell_type": "code",
   "execution_count": 68,
   "metadata": {
    "ExecuteTime": {
     "end_time": "2020-02-27T20:47:22.849443Z",
     "start_time": "2020-02-27T20:47:03.933802Z"
    },
    "id": "2k3dxnYdfOGE"
   },
   "outputs": [],
   "source": [
    "pca_model_z = decomposition.PCA(n_components=75).fit(train_data_z)\n",
    "# from pca documentation, \"the input data is centered but not scaled for each feature before applying the SVD\""
   ]
  },
  {
   "cell_type": "code",
   "execution_count": 69,
   "metadata": {
    "ExecuteTime": {
     "end_time": "2020-02-27T20:47:22.849443Z",
     "start_time": "2020-02-27T20:47:03.933802Z"
    },
    "id": "21NWm03tfOGF"
   },
   "outputs": [],
   "source": [
    "pca_model_ct = decomposition.PCA(n_components=75).fit(train_data_ct)\n",
    "# from pca documentation, \"the input data is centered but not scaled for each feature before applying the SVD\""
   ]
  },
  {
   "cell_type": "code",
   "execution_count": 70,
   "metadata": {
    "ExecuteTime": {
     "end_time": "2020-02-27T20:47:25.521344Z",
     "start_time": "2020-02-27T20:47:23.812540Z"
    },
    "id": "JbM1FmsifOGG"
   },
   "outputs": [],
   "source": [
    "train_transformed_z = pca_model_z.transform(train_data_z)\n",
    "test_transformed_z = pca_model_z.transform(test_data_z)"
   ]
  },
  {
   "cell_type": "code",
   "execution_count": 71,
   "metadata": {
    "ExecuteTime": {
     "end_time": "2020-02-27T20:47:25.521344Z",
     "start_time": "2020-02-27T20:47:23.812540Z"
    },
    "id": "YVfWuA9CfOGG"
   },
   "outputs": [],
   "source": [
    "train_transformed_ct = pca_model_ct.transform(train_data_ct)\n",
    "test_transformed_ct = pca_model_ct.transform(test_data_ct)"
   ]
  },
  {
   "cell_type": "markdown",
   "metadata": {
    "id": "LiAW47OnfOGG"
   },
   "source": [
    "## ABCD Fit Linear Regression Model "
   ]
  },
  {
   "cell_type": "code",
   "execution_count": 72,
   "metadata": {
    "ExecuteTime": {
     "end_time": "2020-02-28T21:02:52.201826Z",
     "start_time": "2020-02-28T21:02:52.178135Z"
    },
    "id": "CKVCpJO6fOGG",
    "tags": []
   },
   "outputs": [],
   "source": [
    "# fast OLS using matrix math\n",
    "# we will check that this matches sklearn results later\n",
    "\n",
    "# fit ols model on dimension reduced train data\n",
    "train_features_z = np.hstack([np.ones((train_transformed_z.shape[0], 1)), \n",
    "                            train_transformed_z])\n",
    "train_features_inv_z = linalg.pinv2(train_features_z)\n",
    "train_betas_z = np.dot(train_features_inv_z, train_phen)\n",
    "train_pred_phen_z = np.dot(train_features_z, train_betas_z)\n",
    "\n",
    "# fit ols model on dimension reduced test data\n",
    "test_features_z = np.hstack([np.ones((test_transformed_z.shape[0], 1)), \n",
    "                           test_transformed_z])\n",
    "test_pred_phen_z = np.dot(test_features_z, train_betas_z)"
   ]
  },
  {
   "cell_type": "code",
   "execution_count": 73,
   "metadata": {
    "ExecuteTime": {
     "end_time": "2020-02-28T21:02:52.201826Z",
     "start_time": "2020-02-28T21:02:52.178135Z"
    },
    "id": "yVqYV-nJfOGH",
    "tags": []
   },
   "outputs": [],
   "source": [
    "# fast OLS using matrix math\n",
    "# we will check that this matches sklearn results later\n",
    "\n",
    "# fit ols model on dimension reduced train data\n",
    "train_features_ct = np.hstack([np.ones((train_transformed_ct.shape[0], 1)), \n",
    "                            train_transformed_ct])\n",
    "train_features_inv_ct = linalg.pinv2(train_features_ct)\n",
    "train_betas_ct = np.dot(train_features_inv_ct, train_phen)\n",
    "train_pred_phen_ct = np.dot(train_features_ct, train_betas_ct)\n",
    "\n",
    "# fit ols model on dimension reduced test data\n",
    "test_features_ct = np.hstack([np.ones((test_transformed_ct.shape[0], 1)), \n",
    "                           test_transformed_ct])\n",
    "test_pred_phen_ct = np.dot(test_features_ct, train_betas_ct)"
   ]
  },
  {
   "cell_type": "code",
   "execution_count": 75,
   "metadata": {
    "ExecuteTime": {
     "end_time": "2020-02-28T21:02:52.511013Z",
     "start_time": "2020-02-28T21:02:52.496799Z"
    },
    "colab": {
     "base_uri": "https://localhost:8080/"
    },
    "id": "tA9TIJo5fOGH",
    "outputId": "b68c17f4-2f44-4562-fa9a-94dc4d9c2359",
    "tags": []
   },
   "outputs": [],
   "source": [
    "# OLS using sklearn\n",
    "\n",
    "lr_model_z = linear_model.LinearRegression(fit_intercept=True)\n",
    "lr_model_z.fit(train_transformed_z, train_phen)\n",
    "train_pred_phen_lr_model_z = lr_model_z.predict(train_transformed_z)\n",
    "test_pred_phen_lr_model_z = lr_model_z.predict(test_transformed_z)"
   ]
  },
  {
   "cell_type": "code",
   "execution_count": 76,
   "metadata": {
    "ExecuteTime": {
     "end_time": "2020-02-28T21:02:52.511013Z",
     "start_time": "2020-02-28T21:02:52.496799Z"
    },
    "colab": {
     "base_uri": "https://localhost:8080/"
    },
    "id": "d-y9k7dEfOGH",
    "outputId": "58fcb4ac-fe2a-40a5-bfa4-80701c3de6c3",
    "tags": []
   },
   "outputs": [],
   "source": [
    "# OLS using sklearn\n",
    "\n",
    "lr_model_ct = linear_model.LinearRegression(fit_intercept=True)\n",
    "lr_model_ct.fit(train_transformed_ct, train_phen)\n",
    "train_pred_phen_lr_model_ct = lr_model_ct.predict(train_transformed_ct)\n",
    "test_pred_phen_lr_model_ct = lr_model_ct.predict(test_transformed_ct)"
   ]
  },
  {
   "cell_type": "code",
   "execution_count": 77,
   "metadata": {
    "ExecuteTime": {
     "end_time": "2020-02-28T21:02:53.178960Z",
     "start_time": "2020-02-28T21:02:53.170282Z"
    },
    "colab": {
     "base_uri": "https://localhost:8080/"
    },
    "id": "nRQqIqjHfOGH",
    "outputId": "ed0cfba5-ffdc-4dde-b163-3a4d2262dad4"
   },
   "outputs": [
    {
     "name": "stdout",
     "output_type": "stream",
     "text": [
      "Passed\n"
     ]
    }
   ],
   "source": [
    "# ensure matrix math predictions and sklearn predictions are accurate to 5 decimals\n",
    "assert np.allclose(np.round(train_pred_phen_z - train_pred_phen_lr_model_z, 5), 0), 'Failed'\n",
    "assert np.allclose(np.round(test_pred_phen_z - test_pred_phen_lr_model_z, 5), 0), 'Failed'\n",
    "print('Passed')"
   ]
  },
  {
   "cell_type": "code",
   "execution_count": 78,
   "metadata": {
    "ExecuteTime": {
     "end_time": "2020-02-28T21:02:53.178960Z",
     "start_time": "2020-02-28T21:02:53.170282Z"
    },
    "colab": {
     "base_uri": "https://localhost:8080/"
    },
    "id": "ANuBiYL-fOGH",
    "outputId": "b9451bda-dd26-461e-dca9-5984b31406ba"
   },
   "outputs": [
    {
     "name": "stdout",
     "output_type": "stream",
     "text": [
      "Passed\n"
     ]
    }
   ],
   "source": [
    "# ensure matrix math predictions and sklearn predictions are accurate to 5 decimals\n",
    "assert np.allclose(np.round(train_pred_phen_ct - train_pred_phen_lr_model_ct, 5), 0), 'Failed'\n",
    "assert np.allclose(np.round(test_pred_phen_ct - test_pred_phen_lr_model_ct, 5), 0), 'Failed'\n",
    "print('Passed')"
   ]
  },
  {
   "cell_type": "markdown",
   "metadata": {
    "id": "LMXlfiq0fOGH"
   },
   "source": [
    "## ABCD Accuracy of Predictions"
   ]
  },
  {
   "cell_type": "code",
   "execution_count": 79,
   "metadata": {
    "ExecuteTime": {
     "end_time": "2020-02-28T21:03:07.671439Z",
     "start_time": "2020-02-28T21:03:07.658887Z"
    },
    "colab": {
     "base_uri": "https://localhost:8080/"
    },
    "id": "Xryb7c9ofOGI",
    "outputId": "5d1b6acc-8314-47ac-e641-55fd8c0fa9b9"
   },
   "outputs": [
    {
     "name": "stdout",
     "output_type": "stream",
     "text": [
      "Deviation model Train R^2: 0.121\n",
      "Deviation model Test R^2: 0.056\n",
      "Deviation model Train MAE: 0.687\n",
      "Deviation model Test MAE: 0.692\n",
      "Deviation model Train MSE: 0.762\n",
      "Deviation model Test MSE: 0.784\n"
     ]
    }
   ],
   "source": [
    "train_r2_z = metrics.r2_score(train_phen, train_pred_phen_lr_model_z)\n",
    "test_r2_z = metrics.r2_score(test_phen, test_pred_phen_lr_model_z)\n",
    "train_mae_z = metrics.mean_absolute_error(train_phen, train_pred_phen_lr_model_z)\n",
    "test_mae_z = metrics.mean_absolute_error(test_phen, test_pred_phen_lr_model_z)\n",
    "train_mse_z = metrics.mean_squared_error(train_phen, train_pred_phen_lr_model_z)\n",
    "test_mse_z = metrics.mean_squared_error(test_phen, test_pred_phen_lr_model_z)\n",
    "print(f'Deviation model Train R^2: {train_r2_z:.3f}')\n",
    "print(f'Deviation model Test R^2: {test_r2_z:.3f}')\n",
    "print(f'Deviation model Train MAE: {train_mae_z:.3f}')\n",
    "print(f'Deviation model Test MAE: {test_mae_z:.3f}')\n",
    "print(f'Deviation model Train MSE: {train_mse_z:.3f}')\n",
    "print(f'Deviation model Test MSE: {test_mse_z:.3f}')"
   ]
  },
  {
   "cell_type": "code",
   "execution_count": 80,
   "metadata": {
    "ExecuteTime": {
     "end_time": "2020-02-28T21:03:07.671439Z",
     "start_time": "2020-02-28T21:03:07.658887Z"
    },
    "colab": {
     "base_uri": "https://localhost:8080/"
    },
    "id": "ojhtmc24fOGI",
    "outputId": "7a839098-df80-4512-8df2-30d3ddaf2b2f"
   },
   "outputs": [
    {
     "name": "stdout",
     "output_type": "stream",
     "text": [
      "Cortical thickness model Train R^2: 0.104\n",
      "Cortical thickness model Test R^2: 0.039\n",
      "Cortical thickness model Train MAE: 0.693\n",
      "Cortical thickness model Test MAE: 0.696\n",
      "Cortical thickness model Train MSE: 0.776\n",
      "Cortical thickness model Test MSE: 0.797\n"
     ]
    }
   ],
   "source": [
    "train_r2_ct = metrics.r2_score(train_phen, train_pred_phen_lr_model_ct)\n",
    "test_r2_ct = metrics.r2_score(test_phen, test_pred_phen_lr_model_ct)\n",
    "train_mae_ct = metrics.mean_absolute_error(train_phen, train_pred_phen_lr_model_ct)\n",
    "test_mae_ct = metrics.mean_absolute_error(test_phen, test_pred_phen_lr_model_ct)\n",
    "train_mse_ct = metrics.mean_squared_error(train_phen, train_pred_phen_lr_model_ct)\n",
    "test_mse_ct = metrics.mean_squared_error(test_phen, test_pred_phen_lr_model_ct)\n",
    "print(f'Cortical thickness model Train R^2: {train_r2_ct:.3f}')\n",
    "print(f'Cortical thickness model Test R^2: {test_r2_ct:.3f}')\n",
    "print(f'Cortical thickness model Train MAE: {train_mae_ct:.3f}')\n",
    "print(f'Cortical thickness model Test MAE: {test_mae_ct:.3f}')\n",
    "print(f'Cortical thickness model Train MSE: {train_mse_ct:.3f}')\n",
    "print(f'Cortical thickness model Test MSE: {test_mse_ct:.3f}')"
   ]
  },
  {
   "cell_type": "code",
   "execution_count": 81,
   "metadata": {},
   "outputs": [],
   "source": [
    "diff_test_r = test_r2_z - test_r2_ct\n",
    "diff_test_mae = test_mae_ct - test_mae_z\n",
    "diff_test_mse = test_mse_ct - test_mse_z"
   ]
  },
  {
   "cell_type": "code",
   "execution_count": 82,
   "metadata": {},
   "outputs": [
    {
     "name": "stdout",
     "output_type": "stream",
     "text": [
      "Cortical thickness - Deviation Test R^2: 0.016\n",
      "Cortical thickness - Deviation Test MAE: 0.004\n",
      "Cortical thickness - Deviation Test MSE: 0.014\n"
     ]
    }
   ],
   "source": [
    "print(f'Cortical thickness - Deviation Test R^2: {diff_test_r:.3f}')\n",
    "print(f'Cortical thickness - Deviation Test MAE: {diff_test_mae:.3f}')\n",
    "print(f'Cortical thickness - Deviation Test MSE: {diff_test_mse:.3f}')"
   ]
  },
  {
   "cell_type": "markdown",
   "metadata": {
    "id": "8hdbIdJcfOGJ"
   },
   "source": [
    "# Connectome Predictive Modelling "
   ]
  },
  {
   "cell_type": "code",
   "execution_count": 83,
   "metadata": {
    "ExecuteTime": {
     "end_time": "2020-02-27T21:24:31.288665Z",
     "start_time": "2020-02-27T21:23:55.467812Z"
    },
    "id": "26jLsR4IfOGJ"
   },
   "outputs": [],
   "source": [
    "# correlation train_brain with train_phenotype\n",
    "train_z_pheno_corr_p = [stats.pearsonr(train_data_z[:, i], train_phen) for i in range(train_data_z.shape[1])]  # train_pheno_corr_p: (259200, )\n",
    "# there are some nan correlations if brain data is poorly cropped (ie: some columns are always 0)"
   ]
  },
  {
   "cell_type": "code",
   "execution_count": 84,
   "metadata": {
    "ExecuteTime": {
     "end_time": "2020-02-27T21:24:31.288665Z",
     "start_time": "2020-02-27T21:23:55.467812Z"
    },
    "id": "GV4-dfC0fOGJ"
   },
   "outputs": [],
   "source": [
    "# correlation train_brain with train_phenotype\n",
    "train_ct_pheno_corr_p = [stats.pearsonr(train_data_ct[:, i], train_phen) for i in range(train_data_ct.shape[1])]  # train_pheno_corr_p: (259200, )\n",
    "# there are some nan correlations if brain data is poorly cropped (ie: some columns are always 0)"
   ]
  },
  {
   "cell_type": "code",
   "execution_count": 85,
   "metadata": {
    "ExecuteTime": {
     "end_time": "2020-02-27T21:24:34.704689Z",
     "start_time": "2020-02-27T21:24:34.501675Z"
    },
    "id": "kDZuM_2cfOGJ"
   },
   "outputs": [],
   "source": [
    "# split into positive and negative correlations \n",
    "# and keep edges with p values below threshold\n",
    "pval_threshold = 0.01\n",
    "\n",
    "train_z_corrs = np.array([x[0] for x in train_z_pheno_corr_p])\n",
    "train_z_pvals = np.array([x[1] for x in train_z_pheno_corr_p])\n",
    "\n",
    "keep_edges_pos_z = (train_z_corrs > 0) & (train_z_pvals < pval_threshold)\n",
    "keep_edges_neg_z = (train_z_corrs < 0) & (train_z_pvals < pval_threshold)\n",
    "\n",
    "train_ct_corrs = np.array([x[0] for x in train_ct_pheno_corr_p])\n",
    "train_ct_pvals = np.array([x[1] for x in train_ct_pheno_corr_p])\n",
    "\n",
    "keep_edges_pos_ct = (train_ct_corrs > 0) & (train_ct_pvals < pval_threshold)\n",
    "keep_edges_neg_ct = (train_ct_corrs < 0) & (train_ct_pvals < pval_threshold)"
   ]
  },
  {
   "cell_type": "code",
   "execution_count": 86,
   "metadata": {
    "ExecuteTime": {
     "end_time": "2020-02-27T21:26:12.022732Z",
     "start_time": "2020-02-27T21:26:12.013945Z"
    },
    "colab": {
     "base_uri": "https://localhost:8080/"
    },
    "id": "WGLTjnYCfOGJ",
    "outputId": "91bf75c6-d17c-4c76-e7fa-65509c069b2b"
   },
   "outputs": [
    {
     "name": "stdout",
     "output_type": "stream",
     "text": [
      "number of positive Z features kept = 70\n",
      "number of negative Z features kept = 8\n",
      "number of positive CT features kept = 46\n",
      "number of negative CT features kept = 10\n"
     ]
    }
   ],
   "source": [
    "print(f'number of positive Z features kept = {np.sum(keep_edges_pos_z)}')\n",
    "print(f'number of negative Z features kept = {np.sum(keep_edges_neg_z)}')\n",
    "print(f'number of positive CT features kept = {np.sum(keep_edges_pos_ct)}')\n",
    "print(f'number of negative CT features kept = {np.sum(keep_edges_neg_ct)}')"
   ]
  },
  {
   "cell_type": "code",
   "execution_count": 87,
   "metadata": {
    "ExecuteTime": {
     "end_time": "2020-02-27T21:29:03.616394Z",
     "start_time": "2020-02-27T21:29:03.571004Z"
    },
    "id": "5ayyKwxkfOGJ"
   },
   "outputs": [],
   "source": [
    "train_pos_edges_sum_z = train_data_z[:, keep_edges_pos_z].sum(1)\n",
    "train_neg_edges_sum_z = train_data_z[:, keep_edges_neg_z].sum(1)"
   ]
  },
  {
   "cell_type": "code",
   "execution_count": 88,
   "metadata": {
    "ExecuteTime": {
     "end_time": "2020-02-27T21:29:03.616394Z",
     "start_time": "2020-02-27T21:29:03.571004Z"
    },
    "id": "ch4OpB24fOGK"
   },
   "outputs": [],
   "source": [
    "train_pos_edges_sum_ct = train_data_ct[:, keep_edges_pos_ct].sum(1)\n",
    "train_neg_edges_sum_ct = train_data_ct[:, keep_edges_neg_ct].sum(1)"
   ]
  },
  {
   "cell_type": "code",
   "execution_count": 90,
   "metadata": {
    "ExecuteTime": {
     "end_time": "2020-02-27T21:30:46.258668Z",
     "start_time": "2020-02-27T21:30:46.190775Z"
    },
    "colab": {
     "base_uri": "https://localhost:8080/"
    },
    "id": "dv_ttet1fOGK",
    "outputId": "335f126c-6339-4b20-b21d-9df97f7cd582",
    "tags": []
   },
   "outputs": [],
   "source": [
    "fit_pos_z = linear_model.LinearRegression(fit_intercept=True).fit(train_pos_edges_sum_z.reshape(-1, 1), train_phen)\n",
    "fit_neg_z = linear_model.LinearRegression(fit_intercept=True).fit(train_neg_edges_sum_z.reshape(-1, 1), train_phen)"
   ]
  },
  {
   "cell_type": "code",
   "execution_count": 91,
   "metadata": {
    "ExecuteTime": {
     "end_time": "2020-02-27T21:30:46.258668Z",
     "start_time": "2020-02-27T21:30:46.190775Z"
    },
    "colab": {
     "base_uri": "https://localhost:8080/"
    },
    "id": "aBLov0GOfOGK",
    "outputId": "40cebd79-9524-4f81-9b26-9106d0156c92",
    "tags": []
   },
   "outputs": [],
   "source": [
    "fit_pos_ct = linear_model.LinearRegression(fit_intercept=True).fit(train_pos_edges_sum_ct.reshape(-1, 1), train_phen)\n",
    "fit_neg_ct = linear_model.LinearRegression(fit_intercept=True).fit(train_neg_edges_sum_ct.reshape(-1, 1), train_phen)"
   ]
  },
  {
   "cell_type": "code",
   "execution_count": 92,
   "metadata": {
    "ExecuteTime": {
     "end_time": "2020-02-27T21:33:41.567137Z",
     "start_time": "2020-02-27T21:33:41.557150Z"
    },
    "colab": {
     "base_uri": "https://localhost:8080/"
    },
    "id": "dqhyxiuAfOGK",
    "outputId": "83e8f7b7-e1aa-4b3b-b666-5735c7358b10"
   },
   "outputs": [
    {
     "name": "stdout",
     "output_type": "stream",
     "text": [
      "Training Error (Positive Z Features Model) = 0.714\n",
      "Training Error (Negative Z Features Model) = 0.729\n",
      "Training Error (Positive CT Features Model) = 0.729\n",
      "Training Error (Negative CT Features Model) = 0.727\n"
     ]
    }
   ],
   "source": [
    "pos_error_z = metrics.mean_absolute_error(train_phen, fit_pos_z.predict(train_pos_edges_sum_z.reshape(-1, 1)))\n",
    "neg_error_z = metrics.mean_absolute_error(train_phen, fit_neg_z.predict(train_neg_edges_sum_z.reshape(-1, 1)))\n",
    "pos_error_ct = metrics.mean_absolute_error(train_phen, fit_pos_ct.predict(train_pos_edges_sum_ct.reshape(-1, 1)))\n",
    "neg_error_ct = metrics.mean_absolute_error(train_phen, fit_neg_ct.predict(train_neg_edges_sum_ct.reshape(-1, 1)))\n",
    "\n",
    "print(f'Training Error (Positive Z Features Model) = {pos_error_z:.3f}')\n",
    "print(f'Training Error (Negative Z Features Model) = {neg_error_z:.3f}')\n",
    "print(f'Training Error (Positive CT Features Model) = {pos_error_ct:.3f}')\n",
    "print(f'Training Error (Negative CT Features Model) = {neg_error_ct:.3f}')"
   ]
  },
  {
   "cell_type": "code",
   "execution_count": 93,
   "metadata": {
    "ExecuteTime": {
     "end_time": "2020-02-27T21:34:05.962843Z",
     "start_time": "2020-02-27T21:34:05.952234Z"
    },
    "colab": {
     "base_uri": "https://localhost:8080/"
    },
    "id": "XyKvY5XFfOGK",
    "outputId": "24836d2d-12d2-48c9-da5d-654421056794",
    "tags": []
   },
   "outputs": [],
   "source": [
    "# combine positive/negative edges in one linear regression model\n",
    "fit_pos_neg_z = linear_model.LinearRegression(fit_intercept=True).fit(np.stack((train_pos_edges_sum_z, train_neg_edges_sum_z)).T, train_phen)"
   ]
  },
  {
   "cell_type": "code",
   "execution_count": 94,
   "metadata": {
    "ExecuteTime": {
     "end_time": "2020-02-27T21:34:05.962843Z",
     "start_time": "2020-02-27T21:34:05.952234Z"
    },
    "colab": {
     "base_uri": "https://localhost:8080/"
    },
    "id": "dz93mEf4fOGK",
    "outputId": "387a58d5-9bf7-4cc5-cdfa-47b17b6f5ada",
    "tags": []
   },
   "outputs": [],
   "source": [
    "# combine positive/negative edges in one linear regression model\n",
    "fit_pos_neg_ct = linear_model.LinearRegression(fit_intercept=True).fit(np.stack((train_pos_edges_sum_ct, train_neg_edges_sum_ct)).T, train_phen)"
   ]
  },
  {
   "cell_type": "code",
   "execution_count": 95,
   "metadata": {
    "ExecuteTime": {
     "end_time": "2020-02-27T21:34:40.010030Z",
     "start_time": "2020-02-27T21:34:39.990469Z"
    },
    "colab": {
     "base_uri": "https://localhost:8080/"
    },
    "id": "fNGsUP4EfOGK",
    "outputId": "f88ab2aa-0880-4065-c4f3-57ffe9692063"
   },
   "outputs": [
    {
     "name": "stdout",
     "output_type": "stream",
     "text": [
      "Training Error (Positive/Negative Z Features Model) = 0.704\n",
      "Training Error (Positive/Negative CT Features Model) = 0.716\n"
     ]
    }
   ],
   "source": [
    "pos_neg_error_z = metrics.mean_absolute_error(train_phen, fit_pos_neg_z.predict(np.stack((train_pos_edges_sum_z, train_neg_edges_sum_z)).T))\n",
    "pos_neg_error_ct = metrics.mean_absolute_error(train_phen, fit_pos_neg_ct.predict(np.stack((train_pos_edges_sum_ct, train_neg_edges_sum_ct)).T))\n",
    "\n",
    "print(f'Training Error (Positive/Negative Z Features Model) = {pos_neg_error_z:.3f}')\n",
    "print(f'Training Error (Positive/Negative CT Features Model) = {pos_neg_error_ct:.3f}')"
   ]
  },
  {
   "cell_type": "code",
   "execution_count": 96,
   "metadata": {
    "ExecuteTime": {
     "end_time": "2020-02-27T21:36:11.826718Z",
     "start_time": "2020-02-27T21:36:11.807247Z"
    },
    "colab": {
     "base_uri": "https://localhost:8080/"
    },
    "id": "J3nR0xLhfOGK",
    "outputId": "d2181842-5561-4edb-d3c4-e24caab6ada2"
   },
   "outputs": [
    {
     "name": "stdout",
     "output_type": "stream",
     "text": [
      "Testing Error (Positive Z Features Model) = 0.802\n",
      "Testing Error (Negative Z Features Model) = 0.830\n",
      "Testing Error (Positive/Negative Z Features Model) = 0.797\n",
      "Testing Error (Positive CT Features Model) = 0.823\n",
      "Testing Error (Negative CT Features Model) = 0.822\n",
      "Testing Error (Positive/Negative CT Features Model) = 0.806\n"
     ]
    }
   ],
   "source": [
    "# evaluate out of sample performance \n",
    "test_pos_edges_sum_z = test_data_z[:, keep_edges_pos_z].sum(1)\n",
    "test_neg_edges_sum_z = test_data_z[:, keep_edges_neg_z].sum(1)\n",
    "\n",
    "pos_test_error_z = metrics.mean_squared_error(test_phen, fit_pos_z.predict(test_pos_edges_sum_z.reshape(-1, 1)))\n",
    "neg_test_error_z = metrics.mean_squared_error(test_phen, fit_neg_z.predict(test_neg_edges_sum_z.reshape(-1, 1)))\n",
    "pos_neg_test_error_z = metrics.mean_squared_error(test_phen, fit_pos_neg_z.predict(np.stack((test_pos_edges_sum_z, test_neg_edges_sum_z)).T))\n",
    "\n",
    "test_pos_edges_sum_ct = test_data_ct[:, keep_edges_pos_ct].sum(1)\n",
    "test_neg_edges_sum_ct = test_data_ct[:, keep_edges_neg_ct].sum(1)\n",
    "\n",
    "pos_test_error_ct = metrics.mean_squared_error(test_phen, fit_pos_ct.predict(test_pos_edges_sum_ct.reshape(-1, 1)))\n",
    "neg_test_error_ct = metrics.mean_squared_error(test_phen, fit_neg_ct.predict(test_neg_edges_sum_ct.reshape(-1, 1)))\n",
    "pos_neg_test_error_ct = metrics.mean_squared_error(test_phen, fit_pos_neg_ct.predict(np.stack((test_pos_edges_sum_ct, test_neg_edges_sum_ct)).T))\n",
    "\n",
    "print(f'Testing Error (Positive Z Features Model) = {pos_test_error_z:.3f}')\n",
    "print(f'Testing Error (Negative Z Features Model) = {neg_test_error_z:.3f}')\n",
    "print(f'Testing Error (Positive/Negative Z Features Model) = {pos_neg_test_error_z:.3f}')\n",
    "print(f'Testing Error (Positive CT Features Model) = {pos_test_error_ct:.3f}')\n",
    "print(f'Testing Error (Negative CT Features Model) = {neg_test_error_ct:.3f}')\n",
    "print(f'Testing Error (Positive/Negative CT Features Model) = {pos_neg_test_error_ct:.3f}')"
   ]
  },
  {
   "cell_type": "code",
   "execution_count": 97,
   "metadata": {},
   "outputs": [],
   "source": [
    "diff_test_mse = pos_neg_test_error_ct - pos_neg_test_error_z"
   ]
  },
  {
   "cell_type": "code",
   "execution_count": 98,
   "metadata": {},
   "outputs": [
    {
     "name": "stdout",
     "output_type": "stream",
     "text": [
      "Cortical thickness - Deviation Test MSE: 0.009\n"
     ]
    }
   ],
   "source": [
    "print(f'Cortical thickness - Deviation Test MSE: {diff_test_mse:.3f}')"
   ]
  },
  {
   "cell_type": "markdown",
   "metadata": {
    "id": "W-cmv-_nfOGL"
   },
   "source": [
    "# Lasso (Linear Regression + L1 Regularization)"
   ]
  },
  {
   "cell_type": "code",
   "execution_count": null,
   "metadata": {
    "ExecuteTime": {
     "end_time": "2020-02-28T18:57:14.623765Z",
     "start_time": "2020-02-28T18:52:40.754297Z"
    },
    "colab": {
     "base_uri": "https://localhost:8080/"
    },
    "id": "xNl68aK5fOGL",
    "outputId": "e5f2384c-5e89-4cdd-c6e8-10613c3d4891",
    "tags": []
   },
   "outputs": [],
   "source": [
    "# LassoCV uses coordinate descent to select hyperparameter alpha \n",
    "alpha_grid = np.array([10**a for a in np.arange(-3, 3, 0.25)])\n",
    "lassoCV_model_z = linear_model.LassoCV(cv=5, n_alphas=len(alpha_grid), alphas=alpha_grid, fit_intercept=True, random_state=42, verbose=True, n_jobs=5).fit(train_data_z, train_phen)"
   ]
  },
  {
   "cell_type": "code",
   "execution_count": null,
   "metadata": {
    "ExecuteTime": {
     "end_time": "2020-02-28T18:57:14.623765Z",
     "start_time": "2020-02-28T18:52:40.754297Z"
    },
    "colab": {
     "base_uri": "https://localhost:8080/"
    },
    "id": "2TVW7TaEfOGL",
    "outputId": "8805b921-614d-4fd9-f21d-b9fd5650d6df",
    "tags": []
   },
   "outputs": [],
   "source": [
    "# LassoCV uses coordinate descent to select hyperparameter alpha \n",
    "alpha_grid = np.array([10**a for a in np.arange(-3, 3, 0.25)])\n",
    "lassoCV_model_ct = linear_model.LassoCV(cv=5, n_alphas=len(alpha_grid), alphas=alpha_grid, fit_intercept=True, random_state=42, verbose=True, n_jobs=5).fit(train_data_ct, train_phen)"
   ]
  },
  {
   "cell_type": "code",
   "execution_count": 104,
   "metadata": {
    "ExecuteTime": {
     "end_time": "2020-02-28T19:03:05.522140Z",
     "start_time": "2020-02-28T19:03:00.140879Z"
    },
    "colab": {
     "base_uri": "https://localhost:8080/"
    },
    "id": "tBKRD_JqfOGM",
    "outputId": "6e2c2695-180a-48ba-b414-b37853b6226b",
    "tags": []
   },
   "outputs": [],
   "source": [
    "# based on cv results above, set alpha=100\n",
    "lasso_model_z = linear_model.Lasso(alpha=lassoCV_model_z.alpha_, fit_intercept=True).fit(train_data_z, train_phen)"
   ]
  },
  {
   "cell_type": "code",
   "execution_count": 105,
   "metadata": {
    "ExecuteTime": {
     "end_time": "2020-02-28T19:03:05.522140Z",
     "start_time": "2020-02-28T19:03:00.140879Z"
    },
    "colab": {
     "base_uri": "https://localhost:8080/"
    },
    "id": "rjfrAw9bfOGM",
    "outputId": "3c4637ed-a658-42c6-d246-de0b156cbeab",
    "tags": []
   },
   "outputs": [],
   "source": [
    "# based on cv results above, set alpha=100\n",
    "lasso_model_ct = linear_model.Lasso(alpha=lassoCV_model_ct.alpha_, fit_intercept=True).fit(train_data_ct, train_phen)"
   ]
  },
  {
   "cell_type": "code",
   "execution_count": 106,
   "metadata": {
    "ExecuteTime": {
     "end_time": "2020-02-28T19:26:16.703261Z",
     "start_time": "2020-02-28T19:26:16.247169Z"
    },
    "colab": {
     "base_uri": "https://localhost:8080/"
    },
    "id": "o0fS2dRafOGM",
    "outputId": "a191e1f9-8338-41df-af2c-8cc68c99adeb"
   },
   "outputs": [
    {
     "name": "stdout",
     "output_type": "stream",
     "text": [
      "Train MSE Z model: 0.753\n",
      "Test MSE Z model: 0.766\n",
      "Train MSE CT model: 0.773\n",
      "Test MSE CT model: 0.779\n"
     ]
    }
   ],
   "source": [
    "train_preds_lasso_model_z = lasso_model_z.predict(train_data_z)\n",
    "test_preds_lasso_model_z = lasso_model_z.predict(test_data_z)\n",
    "\n",
    "train_mse_z = metrics.mean_squared_error(train_phen, train_preds_lasso_model_z)\n",
    "test_mse_z = metrics.mean_squared_error(test_phen, test_preds_lasso_model_z)\n",
    "\n",
    "train_preds_lasso_model_ct = lasso_model_ct.predict(train_data_ct)\n",
    "test_preds_lasso_model_ct = lasso_model_ct.predict(test_data_ct)\n",
    "\n",
    "train_mse_ct = metrics.mean_squared_error(train_phen, train_preds_lasso_model_ct)\n",
    "test_mse_ct = metrics.mean_squared_error(test_phen, test_preds_lasso_model_ct)\n",
    "\n",
    "print(f'Train MSE Z model: {train_mse_z:.3f}')\n",
    "print(f'Test MSE Z model: {test_mse_z:.3f}')\n",
    "print(f'Train MSE CT model: {train_mse_ct:.3f}')\n",
    "print(f'Test MSE CT model: {test_mse_ct:.3f}')"
   ]
  },
  {
   "cell_type": "code",
   "execution_count": 107,
   "metadata": {},
   "outputs": [],
   "source": [
    "diff_test_mse = test_mse_ct - test_mse_z"
   ]
  },
  {
   "cell_type": "code",
   "execution_count": 108,
   "metadata": {},
   "outputs": [
    {
     "name": "stdout",
     "output_type": "stream",
     "text": [
      "Cortical thickness - Deviation Test MSE: 0.014\n"
     ]
    }
   ],
   "source": [
    "print(f'Cortical thickness - Deviation Test MSE: {diff_test_mse:.3f}')"
   ]
  },
  {
   "cell_type": "markdown",
   "metadata": {
    "id": "Iikti1JxfOGM"
   },
   "source": [
    "# Ridge (Linear Regression + L2 Regularization)"
   ]
  },
  {
   "cell_type": "code",
   "execution_count": 109,
   "metadata": {
    "ExecuteTime": {
     "end_time": "2020-02-28T19:24:20.576475Z",
     "start_time": "2020-02-28T19:23:29.159220Z"
    },
    "id": "ws4OPxINfOGM"
   },
   "outputs": [],
   "source": [
    "# RidgeCV uses generalized cross validation to select hyperparameter alpha \n",
    "with warnings.catch_warnings():\n",
    "    # ignore matrix decomposition errors\n",
    "    warnings.simplefilter(\"ignore\")\n",
    "    ridgeCV_model_z = linear_model.RidgeCV(alphas=(0.1, 1.0, 10.0), fit_intercept=True, cv=5).fit(train_data_z, train_phen)"
   ]
  },
  {
   "cell_type": "code",
   "execution_count": 110,
   "metadata": {
    "ExecuteTime": {
     "end_time": "2020-02-28T19:24:20.576475Z",
     "start_time": "2020-02-28T19:23:29.159220Z"
    },
    "id": "cm6DYc5QfOGM"
   },
   "outputs": [],
   "source": [
    "# RidgeCV uses generalized cross validation to select hyperparameter alpha \n",
    "with warnings.catch_warnings():\n",
    "    # ignore matrix decomposition errors\n",
    "    warnings.simplefilter(\"ignore\")\n",
    "    ridgeCV_model_ct = linear_model.RidgeCV(alphas=(0.1, 1.0, 10.0), fit_intercept=True, cv=5).fit(train_data_ct, train_phen)"
   ]
  },
  {
   "cell_type": "code",
   "execution_count": 111,
   "metadata": {
    "ExecuteTime": {
     "end_time": "2020-02-28T20:04:28.613450Z",
     "start_time": "2020-02-28T20:04:28.599216Z"
    },
    "colab": {
     "base_uri": "https://localhost:8080/"
    },
    "id": "SrDulVZAfOGM",
    "outputId": "a746d4fa-6679-4339-9c64-6cbe7c7e82f9"
   },
   "outputs": [
    {
     "name": "stdout",
     "output_type": "stream",
     "text": [
      "CV Selected Alpha Z model = 1.000\n"
     ]
    }
   ],
   "source": [
    "ridge_alpha_z = ridgeCV_model_z.alpha_\n",
    "print(f'CV Selected Alpha Z model = {ridge_alpha_z:.3f}')"
   ]
  },
  {
   "cell_type": "code",
   "execution_count": 112,
   "metadata": {
    "ExecuteTime": {
     "end_time": "2020-02-28T20:04:28.613450Z",
     "start_time": "2020-02-28T20:04:28.599216Z"
    },
    "colab": {
     "base_uri": "https://localhost:8080/"
    },
    "id": "LqKZuMP7fOGN",
    "outputId": "828e2937-ddb4-4ca6-ebf2-d383a4d0a66a"
   },
   "outputs": [
    {
     "name": "stdout",
     "output_type": "stream",
     "text": [
      "CV Selected Alpha CT model = 10.000\n"
     ]
    }
   ],
   "source": [
    "ridge_alpha_ct = ridgeCV_model_ct.alpha_\n",
    "print(f'CV Selected Alpha CT model = {ridge_alpha_ct:.3f}')"
   ]
  },
  {
   "cell_type": "code",
   "execution_count": 113,
   "metadata": {
    "ExecuteTime": {
     "end_time": "2020-02-28T20:04:35.576044Z",
     "start_time": "2020-02-28T20:04:29.018975Z"
    },
    "colab": {
     "base_uri": "https://localhost:8080/"
    },
    "id": "w1Phgg8wfOGN",
    "outputId": "238bf798-fe73-4af9-93ba-17b49a3eb642",
    "tags": []
   },
   "outputs": [],
   "source": [
    "ridge_model_z = linear_model.Ridge(alpha=ridge_alpha_z, fit_intercept=True).fit(train_data_z, train_phen)"
   ]
  },
  {
   "cell_type": "code",
   "execution_count": 114,
   "metadata": {
    "ExecuteTime": {
     "end_time": "2020-02-28T20:04:35.576044Z",
     "start_time": "2020-02-28T20:04:29.018975Z"
    },
    "colab": {
     "base_uri": "https://localhost:8080/"
    },
    "id": "H_L-RzBkfOGN",
    "outputId": "9b3d6b2b-52d6-4efd-da8e-74bf6e1dd9c6",
    "tags": []
   },
   "outputs": [],
   "source": [
    "ridge_model_ct = linear_model.Ridge(alpha=ridge_alpha_ct, fit_intercept=True).fit(train_data_ct, train_phen)"
   ]
  },
  {
   "cell_type": "code",
   "execution_count": 115,
   "metadata": {
    "ExecuteTime": {
     "end_time": "2020-02-28T20:04:36.305177Z",
     "start_time": "2020-02-28T20:04:35.589009Z"
    },
    "colab": {
     "base_uri": "https://localhost:8080/"
    },
    "id": "URoI2xqzfOGN",
    "outputId": "e84f20fe-ef40-4c97-90dd-4cf14fa72710"
   },
   "outputs": [
    {
     "name": "stdout",
     "output_type": "stream",
     "text": [
      "Train MSE Z model: 0.717\n",
      "Test MSE Z model: 0.801\n",
      "Train MSE CT model: 0.756\n",
      "Test MSE CT model: 0.788\n"
     ]
    }
   ],
   "source": [
    "train_preds_ridge_model_z = ridge_model_z.predict(train_data_z)\n",
    "test_preds_ridge_model_z = ridge_model_z.predict(test_data_z)\n",
    "\n",
    "train_mse_z = metrics.mean_squared_error(train_phen, train_preds_ridge_model_z)\n",
    "test_mse_z = metrics.mean_squared_error(test_phen, test_preds_ridge_model_z)\n",
    "\n",
    "train_preds_ridge_model_ct = ridge_model_ct.predict(train_data_ct)\n",
    "test_preds_ridge_model_ct = ridge_model_ct.predict(test_data_ct)\n",
    "\n",
    "train_mse_ct = metrics.mean_squared_error(train_phen, train_preds_ridge_model_ct)\n",
    "test_mse_ct = metrics.mean_squared_error(test_phen, test_preds_ridge_model_ct)\n",
    "\n",
    "print(f'Train MSE Z model: {train_mse_z:.3f}')\n",
    "print(f'Test MSE Z model: {test_mse_z:.3f}')\n",
    "print(f'Train MSE CT model: {train_mse_ct:.3f}')\n",
    "print(f'Test MSE CT model: {test_mse_ct:.3f}')"
   ]
  },
  {
   "cell_type": "code",
   "execution_count": 116,
   "metadata": {},
   "outputs": [],
   "source": [
    "diff_test_mse = test_mse_ct - test_mse_z"
   ]
  },
  {
   "cell_type": "code",
   "execution_count": 117,
   "metadata": {},
   "outputs": [
    {
     "name": "stdout",
     "output_type": "stream",
     "text": [
      "Cortical thickness - Deviation Test MSE: -0.012\n"
     ]
    }
   ],
   "source": [
    "print(f'Cortical thickness - Deviation Test MSE: {diff_test_mse:.3f}')"
   ]
  },
  {
   "cell_type": "markdown",
   "metadata": {
    "id": "_G72iEyXfOGN"
   },
   "source": [
    "# Elastic Net (Linear Regression + L1/L2 Regularization)"
   ]
  },
  {
   "cell_type": "code",
   "execution_count": null,
   "metadata": {
    "ExecuteTime": {
     "end_time": "2020-02-28T20:59:20.607271Z",
     "start_time": "2020-02-28T20:25:43.581804Z"
    },
    "colab": {
     "base_uri": "https://localhost:8080/"
    },
    "id": "HM0VpMxdfOGN",
    "outputId": "bfe28365-bfc9-4814-dbcc-3b3362d0d605",
    "tags": []
   },
   "outputs": [],
   "source": [
    "# RidgeCV uses generalized cross validation to select hyperparameter alpha \n",
    "elasticnetCV_model_z = linear_model.ElasticNetCV(l1_ratio=[.1, .5, .7, .9, .95, .99, 1], cv=5, n_alphas=len(alpha_grid), alphas=alpha_grid, random_state=42, verbose=True, n_jobs=5).fit(train_data_z, train_phen)"
   ]
  },
  {
   "cell_type": "code",
   "execution_count": null,
   "metadata": {
    "ExecuteTime": {
     "end_time": "2020-02-28T20:59:20.607271Z",
     "start_time": "2020-02-28T20:25:43.581804Z"
    },
    "colab": {
     "base_uri": "https://localhost:8080/"
    },
    "id": "8Tg5LIf4fOGN",
    "outputId": "21240f40-72c6-4e6f-ae23-6ce818ea5e13",
    "tags": []
   },
   "outputs": [],
   "source": [
    "# RidgeCV uses generalized cross validation to select hyperparameter alpha \n",
    "elasticnetCV_model_ct = linear_model.ElasticNetCV(l1_ratio=[.1, .5, .7, .9, .95, .99, 1], cv=5, n_alphas=len(alpha_grid), alphas=alpha_grid, random_state=42, verbose=True, n_jobs=5).fit(train_data_ct, train_phen)"
   ]
  },
  {
   "cell_type": "code",
   "execution_count": 120,
   "metadata": {
    "ExecuteTime": {
     "end_time": "2020-02-28T20:59:20.620899Z",
     "start_time": "2020-02-28T20:59:20.612966Z"
    },
    "colab": {
     "base_uri": "https://localhost:8080/"
    },
    "id": "de7gHAs-fOGN",
    "outputId": "a5d8e944-51fa-49a3-e09b-f8bbe68bf538"
   },
   "outputs": [
    {
     "name": "stdout",
     "output_type": "stream",
     "text": [
      "CV selected alpha Z model 0.100\n",
      "Elastic net L1 ratio Z model 0.100\n",
      "CV selected alpha CT model 0.010\n",
      "Elastic net L1 ratio CT model 0.100\n"
     ]
    }
   ],
   "source": [
    "print(f'CV selected alpha Z model {elasticnetCV_model_z.alpha_:.3f}')\n",
    "print(f'Elastic net L1 ratio Z model {elasticnetCV_model_z.l1_ratio_:.3f}')\n",
    "print(f'CV selected alpha CT model {elasticnetCV_model_ct.alpha_:.3f}')\n",
    "print(f'Elastic net L1 ratio CT model {elasticnetCV_model_ct.l1_ratio_:.3f}')"
   ]
  },
  {
   "cell_type": "code",
   "execution_count": 121,
   "metadata": {
    "ExecuteTime": {
     "end_time": "2020-02-28T21:02:35.399337Z",
     "start_time": "2020-02-28T21:02:30.121679Z"
    },
    "colab": {
     "base_uri": "https://localhost:8080/"
    },
    "id": "tYFLl0sRfOGO",
    "outputId": "eef14a6a-9d90-4bd1-916d-be363f87b906"
   },
   "outputs": [
    {
     "name": "stdout",
     "output_type": "stream",
     "text": [
      "Train MSE Z model: 0.758\n",
      "Test MSE Z model: 0.766\n",
      "Train MSE CT model: 0.775\n",
      "Test MSE CT model: 0.779\n"
     ]
    }
   ],
   "source": [
    "elasticnet_model_z = linear_model.ElasticNet(alpha=elasticnetCV_model_z.alpha_, l1_ratio=elasticnetCV_model_z.l1_ratio_, fit_intercept=True, random_state=42).fit(train_data_z, train_phen)\n",
    "\n",
    "train_preds_en_model_z = elasticnet_model_z.predict(train_data_z)\n",
    "test_preds_en_model_z = elasticnet_model_z.predict(test_data_z)\n",
    "\n",
    "train_mse_z = metrics.mean_squared_error(train_phen, train_preds_en_model_z)\n",
    "test_mse_z = metrics.mean_squared_error(test_phen, test_preds_en_model_z)\n",
    "\n",
    "elasticnet_model_ct = linear_model.ElasticNet(alpha=elasticnetCV_model_ct.alpha_, l1_ratio=elasticnetCV_model_ct.l1_ratio_, fit_intercept=True, random_state=42).fit(train_data_ct, train_phen)\n",
    "\n",
    "train_preds_en_model_ct = elasticnet_model_ct.predict(train_data_ct)\n",
    "test_preds_en_model_ct = elasticnet_model_ct.predict(test_data_ct)\n",
    "\n",
    "train_mse_ct = metrics.mean_squared_error(train_phen, train_preds_en_model_ct)\n",
    "test_mse_ct = metrics.mean_squared_error(test_phen, test_preds_en_model_ct)\n",
    "\n",
    "print(f'Train MSE Z model: {train_mse_z:.3f}')\n",
    "print(f'Test MSE Z model: {test_mse_z:.3f}')\n",
    "print(f'Train MSE CT model: {train_mse_ct:.3f}')\n",
    "print(f'Test MSE CT model: {test_mse_ct:.3f}')"
   ]
  },
  {
   "cell_type": "code",
   "execution_count": 122,
   "metadata": {},
   "outputs": [],
   "source": [
    "diff_test_mse = test_mse_ct - test_mse_z"
   ]
  },
  {
   "cell_type": "code",
   "execution_count": 123,
   "metadata": {},
   "outputs": [
    {
     "name": "stdout",
     "output_type": "stream",
     "text": [
      "Cortical thickness - Deviation Test MSE: 0.014\n"
     ]
    }
   ],
   "source": [
    "print(f'Cortical thickness - Deviation Test MSE: {diff_test_mse:.3f}')"
   ]
  }
 ],
 "metadata": {
  "colab": {
   "name": "other_predictive_models.ipynb",
   "provenance": []
  },
  "kernelspec": {
   "display_name": "Python 3",
   "language": "python",
   "name": "python3"
  },
  "language_info": {
   "codemirror_mode": {
    "name": "ipython",
    "version": 3
   },
   "file_extension": ".py",
   "mimetype": "text/x-python",
   "name": "python",
   "nbconvert_exporter": "python",
   "pygments_lexer": "ipython3",
   "version": "3.8.8"
  }
 },
 "nbformat": 4,
 "nbformat_minor": 4
}
